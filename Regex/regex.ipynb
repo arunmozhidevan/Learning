{
 "cells": [
  {
   "cell_type": "markdown",
   "metadata": {},
   "source": [
    "# Regex"
   ]
  },
  {
   "cell_type": "code",
   "execution_count": 1,
   "metadata": {},
   "outputs": [],
   "source": [
    "import re"
   ]
  },
  {
   "cell_type": "code",
   "execution_count": 2,
   "metadata": {},
   "outputs": [],
   "source": [
    "sentence = '''\n",
    "In the Gregorian calendar, New Year's Eve, the last day of the year, is on 31 December. In many countries, \n",
    "New Year's Eve is celebrated at evening parties, where many people dance, eat, drink, and watch or light fireworks. \n",
    "Some Christians attend a watchnight service.\n",
    "'''"
   ]
  },
  {
   "cell_type": "markdown",
   "metadata": {},
   "source": [
    "### Special Sequences"
   ]
  },
  {
   "cell_type": "markdown",
   "metadata": {},
   "source": [
    "|Character\t|Description\t|Example\t\n",
    "|:---:|:--- |:---:|\n",
    "\\A\t|Returns a match if the specified characters are at the beginning of the string\t|\"\\AThe\"\t\n",
    "\\b\t|Returns a match where the specified characters are at the beginning or at the end of a word (the \"r\" in the beginning is making sure that the string is being treated as a \"raw string\")\t|r\"\\bain\" r\"ain\\b\"\t\n",
    "\\B\t|Returns a match where the specified characters are present, but NOT at the beginning (or at the end) of a word (the \"r\" in the beginning is making sure that the string is being treated as a \"raw string\")\t|r\"\\Bain\" r\"ain\\B\"\t\n",
    "\\d\t|Returns a match where the string contains digits (numbers from 0-9)\t|\"\\d\"\t\n",
    "\\D\t|Returns a match where the string DOES NOT contain digits\t|\"\\D\"\t\n",
    "\\s\t|Returns a match where the string contains a white space character\t|\"\\s\"\t\n",
    "\\S\t|Returns a match where the string DOES NOT contain a white space character\t|\"\\S\"\t\n",
    "\\w\t|Returns a match where the string contains any word characters (characters from a to Z, digits from 0-9, and the underscore _ character)\t|\"\\w\"\t\n",
    "\\W\t|Returns a match where the string DOES NOT contain any word characters\t|\"\\W\"\t\n",
    "\\Z\t|Returns a match if the specified characters are at the end of the string\t|\"Spain\\Z\""
   ]
  },
  {
   "cell_type": "code",
   "execution_count": 11,
   "metadata": {},
   "outputs": [],
   "source": [
    "pattern = re.compile('\\AIn')\n",
    "matchs = pattern.finditer(sentence)\n",
    "for match in matchs:\n",
    "    print(match)"
   ]
  },
  {
   "cell_type": "markdown",
   "metadata": {},
   "source": [
    "### Sets"
   ]
  },
  {
   "cell_type": "markdown",
   "metadata": {},
   "source": [
    "|Set\t|Description\n",
    "|:---------:|:---------|\n",
    "[arn]\t|Returns a match where one of the specified characters (a, r, or n) are present\t\n",
    "[a-n]\t|Returns a match for any lower case character, alphabetically between a and n\t\n",
    "[^arn]\t|Returns a match for any character EXCEPT a, r, and n\t\n",
    "[0123]\t|Returns a match where any of the specified digits (0, 1, 2, or 3) are present\t\n",
    "[0-9]\t|Returns a match for any digit between 0 and 9\t\n",
    "[0-5][0-9]\t|Returns a match for any two-digit numbers from 00 and 59\t\n",
    "[a-zA-Z]\t|Returns a match for any character alphabetically between a and z, lower case OR upper case\t\n",
    "[+]\t|In sets, +, *, ., /, (), $,{} has no special meaning, so [+] means: return a match for any + character in the string"
   ]
  },
  {
   "cell_type": "markdown",
   "metadata": {},
   "source": [
    "### RegEx Functions"
   ]
  },
  {
   "cell_type": "markdown",
   "metadata": {},
   "source": [
    "|Function\t|Description\n",
    "|:---:|:--|\n",
    "findall\t|Returns a list containing all matches\n",
    "search\t|Returns a Match object if there is a match anywhere in the string\n",
    "split\t|Returns a list where the string has been split at each match\n",
    "sub\t|Replaces one or many matches with a string"
   ]
  },
  {
   "cell_type": "code",
   "execution_count": null,
   "metadata": {},
   "outputs": [],
   "source": []
  }
 ],
 "metadata": {
  "kernelspec": {
   "display_name": "Python 3",
   "language": "python",
   "name": "python3"
  },
  "language_info": {
   "codemirror_mode": {
    "name": "ipython",
    "version": 3
   },
   "file_extension": ".py",
   "mimetype": "text/x-python",
   "name": "python",
   "nbconvert_exporter": "python",
   "pygments_lexer": "ipython3",
   "version": "3.8.5"
  }
 },
 "nbformat": 4,
 "nbformat_minor": 4
}
