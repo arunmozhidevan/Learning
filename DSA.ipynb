{
 "cells": [
  {
   "cell_type": "code",
   "execution_count": 162,
   "id": "a3c77ed1-e2b5-49b7-9ba4-221250726406",
   "metadata": {},
   "outputs": [],
   "source": [
    "import timeit # evaluate the run time"
   ]
  },
  {
   "cell_type": "code",
   "execution_count": 159,
   "id": "3a537102-34a6-40af-bb48-2b88fcc25251",
   "metadata": {},
   "outputs": [],
   "source": [
    "def time(func, b):\n",
    "    t_0 = timeit.default_timer()\n",
    "    value = func.run(b)\n",
    "    t_1 = timeit.default_timer()\n",
    "    elapsed_time = round((t_1 - t_0) * 10 ** 6, 3)\n",
    "    print(f'Sorted Array: {func.run(b)}')\n",
    "    print(f\"Elapsed time: {elapsed_time} µs\")"
   ]
  },
  {
   "cell_type": "markdown",
   "id": "ee8910a6-bde3-4020-a660-67a13165499e",
   "metadata": {},
   "source": [
    "## Linked list"
   ]
  },
  {
   "cell_type": "code",
   "execution_count": 1,
   "id": "b9589968-7d87-410c-934f-8671b335a702",
   "metadata": {},
   "outputs": [],
   "source": [
    "class node:\n",
    "    def __init__(self, dataval = None):\n",
    "        self.dataval = dataval\n",
    "        self.nextval = None\n",
    "\n",
    "        \n",
    "class Slinkedlist:\n",
    "    def __init__(self ):\n",
    "        self.head = None\n",
    "    \n",
    "    def listPrint(self):\n",
    "        printVal = self.head\n",
    "        while printVal is not None:\n",
    "            print(printVal.dataval)\n",
    "            printVal = printVal.nextval\n",
    "    \n",
    "    def insertBeg(self, data):\n",
    "        begNode = node(data)\n",
    "        begNode.nextval = self.head\n",
    "        self.head = begNode\n",
    "    \n",
    "    def insertInbetween(self, middleNode, data):\n",
    "        if middleNode is None:\n",
    "            raise ValueError('The node is absent!')\n",
    "            return\n",
    "        newNode = node(data)\n",
    "        newNode.nextval = middleNode.nextval\n",
    "        middleNode.nextval = newNode\n",
    "        \n",
    "    def insertEnd(self, data):\n",
    "        if self.head is None:\n",
    "            self.head = node(data)\n",
    "        else:\n",
    "            tempData = self.head\n",
    "            while tempData.nextval is not None:\n",
    "                tempData = tempData.nextval\n",
    "            tempData.nextval = node(data)\n",
    "            \n",
    "    def remove(self, data):\n",
    "        if data is None:\n",
    "            raise ValueError('There\\'s no Node present in the list!')\n",
    "            return\n",
    "        \n",
    "        tempNode = self.head\n",
    "        while tempNode.nextval is not data:\n",
    "            tempNode = tempNode.nextval\n",
    "        tempNode.nextval = data.nextval"
   ]
  },
  {
   "cell_type": "code",
   "execution_count": 2,
   "id": "95081453-b7e2-4ad0-80e2-5f6159fc1ac5",
   "metadata": {},
   "outputs": [],
   "source": [
    "S = Slinkedlist()\n",
    "\n",
    "n1 = node('1')\n",
    "n2 = node('2')\n",
    "n3 = node('3')\n",
    "\n",
    "S.head = n1\n",
    "n1.nextval = n2\n",
    "n2.nextval = n3"
   ]
  },
  {
   "cell_type": "code",
   "execution_count": 3,
   "id": "6710b017-a921-4ab4-a138-f5b524b0b295",
   "metadata": {},
   "outputs": [
    {
     "name": "stdout",
     "output_type": "stream",
     "text": [
      "1\n",
      "2\n",
      "3\n"
     ]
    }
   ],
   "source": [
    "S.listPrint()"
   ]
  },
  {
   "cell_type": "code",
   "execution_count": 4,
   "id": "5ba9a0ac-6ee2-4a42-a7f8-aa22e0eb3a67",
   "metadata": {},
   "outputs": [],
   "source": [
    "S.insertBeg(0)"
   ]
  },
  {
   "cell_type": "code",
   "execution_count": 5,
   "id": "3c6f7638-e14c-4ae2-8867-ccdc65f5f4cc",
   "metadata": {},
   "outputs": [
    {
     "name": "stdout",
     "output_type": "stream",
     "text": [
      "0\n",
      "1\n",
      "2\n",
      "3\n"
     ]
    }
   ],
   "source": [
    "S.listPrint()"
   ]
  },
  {
   "cell_type": "code",
   "execution_count": 6,
   "id": "938d4e5b-45d9-430a-ac55-ca2eba3671d6",
   "metadata": {},
   "outputs": [],
   "source": [
    "S.insertEnd(88)"
   ]
  },
  {
   "cell_type": "code",
   "execution_count": 7,
   "id": "61926aa2-989e-4112-a956-08f64c79f6b3",
   "metadata": {},
   "outputs": [
    {
     "name": "stdout",
     "output_type": "stream",
     "text": [
      "0\n",
      "1\n",
      "2\n",
      "3\n",
      "88\n"
     ]
    }
   ],
   "source": [
    "S.listPrint()"
   ]
  },
  {
   "cell_type": "code",
   "execution_count": 8,
   "id": "d88056ca-d98a-4079-a907-cba78bf98673",
   "metadata": {},
   "outputs": [],
   "source": [
    "S.insertInbetween(n3, 55)"
   ]
  },
  {
   "cell_type": "code",
   "execution_count": 9,
   "id": "a0e5379f-7cf7-4f64-802f-a232e927b640",
   "metadata": {},
   "outputs": [
    {
     "name": "stdout",
     "output_type": "stream",
     "text": [
      "0\n",
      "1\n",
      "2\n",
      "3\n",
      "55\n",
      "88\n"
     ]
    }
   ],
   "source": [
    "S.listPrint()"
   ]
  },
  {
   "cell_type": "code",
   "execution_count": 10,
   "id": "7f90840c-5b3a-4e14-aadc-4017c8e1e6ff",
   "metadata": {},
   "outputs": [],
   "source": [
    "S.remove(n2)"
   ]
  },
  {
   "cell_type": "code",
   "execution_count": 11,
   "id": "72f44420-3e6a-4b20-9052-2c37f1a47d9c",
   "metadata": {},
   "outputs": [
    {
     "name": "stdout",
     "output_type": "stream",
     "text": [
      "0\n",
      "1\n",
      "3\n",
      "55\n",
      "88\n"
     ]
    }
   ],
   "source": [
    "S.listPrint()"
   ]
  },
  {
   "cell_type": "markdown",
   "id": "fbde1195-640f-429a-8d93-376bc8a2fe82",
   "metadata": {},
   "source": [
    "## Stack"
   ]
  },
  {
   "cell_type": "markdown",
   "id": "039f7aba-d9b6-4b2e-b68e-485c4880f8c5",
   "metadata": {},
   "source": [
    "In a stack the element insreted last in sequence will come out first as we can remove only from the top of the stack. Such feature is known as Last in First Out(LIFO) feature. The operations of adding and removing the elements is known as PUSH and POP. In the following program we implement it as add and and remove functions. We declare an empty list and use the append() and pop() methods to add and remove the data elements."
   ]
  },
  {
   "cell_type": "code",
   "execution_count": 12,
   "id": "45aa5365-9962-4937-beb6-d29947e733b7",
   "metadata": {},
   "outputs": [],
   "source": [
    "class stack:\n",
    "    def __init__(self):\n",
    "        self.stackList = None\n",
    "        \n",
    "    def push(self, value):\n",
    "        if self.stackList is None:\n",
    "            self.stackList = [value]\n",
    "            return\n",
    "        self.stackList.append(value)\n",
    "        \n",
    "    def pop(self):\n",
    "        if self.stackList is None:\n",
    "            raise ValueError('Stack is empty. Nothing to pop!')\n",
    "            return\n",
    "        print(f'Value: {self.stackList.pop()} popped from stack!')\n",
    "    \n",
    "    def peek(self):\n",
    "        if self.stackList is None:\n",
    "            raise ValueError('Stack is empty. Nothing to Peek!')\n",
    "            return\n",
    "        print(f'Last value in stack: {self.stackList[-1]}')"
   ]
  },
  {
   "cell_type": "code",
   "execution_count": 13,
   "id": "f09a199e-01cf-4fd7-8d16-b18e6d37aad9",
   "metadata": {},
   "outputs": [],
   "source": [
    "s = stack()"
   ]
  },
  {
   "cell_type": "code",
   "execution_count": 14,
   "id": "96950511-88e7-4070-adea-ae605f721b33",
   "metadata": {},
   "outputs": [],
   "source": [
    "s.push(1)"
   ]
  },
  {
   "cell_type": "code",
   "execution_count": 15,
   "id": "5f65bd73-bd17-4eb4-b3bb-751ba4d5383a",
   "metadata": {},
   "outputs": [
    {
     "data": {
      "text/plain": [
       "[1]"
      ]
     },
     "execution_count": 15,
     "metadata": {},
     "output_type": "execute_result"
    }
   ],
   "source": [
    "s.stackList"
   ]
  },
  {
   "cell_type": "code",
   "execution_count": 16,
   "id": "c8e95e4a-e683-43b9-acf8-5e2ddfba89ab",
   "metadata": {},
   "outputs": [],
   "source": [
    "s.push(2)"
   ]
  },
  {
   "cell_type": "code",
   "execution_count": 17,
   "id": "f97afd08-575a-4daa-b80c-ed8b260ce39c",
   "metadata": {},
   "outputs": [
    {
     "data": {
      "text/plain": [
       "[1, 2]"
      ]
     },
     "execution_count": 17,
     "metadata": {},
     "output_type": "execute_result"
    }
   ],
   "source": [
    "s.stackList"
   ]
  },
  {
   "cell_type": "code",
   "execution_count": 18,
   "id": "638c942f-7447-42f2-8a15-48de693e179a",
   "metadata": {},
   "outputs": [],
   "source": [
    "s.push(5)"
   ]
  },
  {
   "cell_type": "code",
   "execution_count": 19,
   "id": "59259fc7-a826-4b39-a3d7-c44b961e1362",
   "metadata": {},
   "outputs": [
    {
     "name": "stdout",
     "output_type": "stream",
     "text": [
      "Value: 5 popped from stack!\n"
     ]
    }
   ],
   "source": [
    "s.pop()"
   ]
  },
  {
   "cell_type": "code",
   "execution_count": 20,
   "id": "e9c20d9d-ef9d-4bd7-9991-fac8945cf553",
   "metadata": {},
   "outputs": [
    {
     "data": {
      "text/plain": [
       "[1, 2]"
      ]
     },
     "execution_count": 20,
     "metadata": {},
     "output_type": "execute_result"
    }
   ],
   "source": [
    "s.stackList"
   ]
  },
  {
   "cell_type": "code",
   "execution_count": 21,
   "id": "f876c52d-47e2-4113-be4e-ac217cb4ae2a",
   "metadata": {},
   "outputs": [
    {
     "name": "stdout",
     "output_type": "stream",
     "text": [
      "Last value in stack: 2\n"
     ]
    }
   ],
   "source": [
    "s.peek()"
   ]
  },
  {
   "cell_type": "markdown",
   "id": "4f278838-5647-4e1e-9017-235ab6ced9e6",
   "metadata": {},
   "source": [
    "## Queue"
   ]
  },
  {
   "cell_type": "markdown",
   "id": "bd94a345-4ce1-4967-a2ab-fc150ab3acb2",
   "metadata": {},
   "source": [
    "A queue can be implemented using python list where we can use the insert() and pop() methods to add and remove elements. Their is no insertion as data elements are always added at the end of the queue."
   ]
  },
  {
   "cell_type": "code",
   "execution_count": 22,
   "id": "ae00e44d-5def-4aa7-8ee8-e9161cad7720",
   "metadata": {},
   "outputs": [],
   "source": [
    "class Queue:\n",
    "    def __init__(self):\n",
    "        self.QueueList = None\n",
    "        \n",
    "    def push(self, value):\n",
    "        if self.QueueList is None:\n",
    "            self.QueueList = [value]\n",
    "            return\n",
    "        self.QueueList.append(value)\n",
    "        \n",
    "    def pop(self):\n",
    "        if self.QueueList is None:\n",
    "            raise ValueError('Queue is empty. Nothing to pop!')\n",
    "            return\n",
    "        print(f'Value: {self.QueueList.pop(0)} popped from Queue!')\n",
    "    \n",
    "    def peek(self):\n",
    "        if self.QueueList is None:\n",
    "            raise ValueError('Queue is empty. Nothing to Peek!')\n",
    "            return\n",
    "        print(f'First value in Queue: {self.QueueList[0]}')"
   ]
  },
  {
   "cell_type": "code",
   "execution_count": 23,
   "id": "c65383c2-8b5b-482e-914a-2e0afe8fcb10",
   "metadata": {},
   "outputs": [],
   "source": [
    "Q = Queue()\n",
    "\n",
    "Q.push(1)\n",
    "Q.push(3)\n",
    "Q.push(6)\n",
    "Q.push(7)\n",
    "Q.push(8)\n",
    "Q.push(9)\n",
    "Q.push(12)"
   ]
  },
  {
   "cell_type": "code",
   "execution_count": 24,
   "id": "7cee3bca-7768-46f7-904e-8289c8c48184",
   "metadata": {},
   "outputs": [
    {
     "name": "stdout",
     "output_type": "stream",
     "text": [
      "First value in Queue: 1\n"
     ]
    }
   ],
   "source": [
    "Q.peek()"
   ]
  },
  {
   "cell_type": "code",
   "execution_count": 25,
   "id": "7fd06681-a701-4eb4-8102-757592387640",
   "metadata": {},
   "outputs": [
    {
     "name": "stdout",
     "output_type": "stream",
     "text": [
      "Value: 1 popped from Queue!\n"
     ]
    }
   ],
   "source": [
    "Q.pop()"
   ]
  },
  {
   "cell_type": "code",
   "execution_count": 26,
   "id": "acd85442-3c8e-4afa-a259-e955609f71db",
   "metadata": {},
   "outputs": [
    {
     "name": "stdout",
     "output_type": "stream",
     "text": [
      "First value in Queue: 3\n"
     ]
    }
   ],
   "source": [
    "Q.peek()"
   ]
  },
  {
   "cell_type": "markdown",
   "id": "5a37d580-5031-4f03-bcfa-c9cd38273f12",
   "metadata": {},
   "source": [
    "## Dequeue"
   ]
  },
  {
   "cell_type": "markdown",
   "id": "607509fc-feaf-40d6-a604-8defb7968fda",
   "metadata": {},
   "source": [
    "A double-ended queue, or deque, supports adding and removing elements from either end. The more commonly used stacks and queues are degenerate forms of deques, where the inputs and outputs are restricted to a single end."
   ]
  },
  {
   "cell_type": "code",
   "execution_count": 27,
   "id": "fb93e1cd-2c63-434e-b939-6feabbd14d64",
   "metadata": {},
   "outputs": [],
   "source": [
    "import collections"
   ]
  },
  {
   "cell_type": "code",
   "execution_count": 28,
   "id": "5d07acfd-40fc-4df3-b740-01d4bfdcb50d",
   "metadata": {},
   "outputs": [],
   "source": [
    "deQ = collections.deque([1,3,5,6,7,8,9,34,67])"
   ]
  },
  {
   "cell_type": "code",
   "execution_count": 29,
   "id": "63b3853b-0b2b-4e9f-9e80-3e69cae01aa0",
   "metadata": {},
   "outputs": [],
   "source": [
    "deQ.append(122) # push right"
   ]
  },
  {
   "cell_type": "code",
   "execution_count": 30,
   "id": "fe54c785-d0c8-4efe-87b0-a459c26e2e67",
   "metadata": {},
   "outputs": [
    {
     "data": {
      "text/plain": [
       "deque([1, 3, 5, 6, 7, 8, 9, 34, 67, 122])"
      ]
     },
     "execution_count": 30,
     "metadata": {},
     "output_type": "execute_result"
    }
   ],
   "source": [
    "deQ"
   ]
  },
  {
   "cell_type": "code",
   "execution_count": 31,
   "id": "a3288a91-2e72-48a7-a3b6-61f85e6f1a8b",
   "metadata": {},
   "outputs": [],
   "source": [
    "deQ.appendleft(0) # push left"
   ]
  },
  {
   "cell_type": "code",
   "execution_count": 32,
   "id": "ed29453b-8092-4491-866b-78066d33a904",
   "metadata": {},
   "outputs": [
    {
     "data": {
      "text/plain": [
       "deque([0, 1, 3, 5, 6, 7, 8, 9, 34, 67, 122])"
      ]
     },
     "execution_count": 32,
     "metadata": {},
     "output_type": "execute_result"
    }
   ],
   "source": [
    "deQ"
   ]
  },
  {
   "cell_type": "code",
   "execution_count": 33,
   "id": "e49e0284-5c03-4b69-a868-80594cb8f786",
   "metadata": {},
   "outputs": [
    {
     "data": {
      "text/plain": [
       "122"
      ]
     },
     "execution_count": 33,
     "metadata": {},
     "output_type": "execute_result"
    }
   ],
   "source": [
    "deQ.pop() # pop right"
   ]
  },
  {
   "cell_type": "code",
   "execution_count": 34,
   "id": "56304e13-a2e8-4678-a9d8-458b95e1c979",
   "metadata": {},
   "outputs": [
    {
     "data": {
      "text/plain": [
       "0"
      ]
     },
     "execution_count": 34,
     "metadata": {},
     "output_type": "execute_result"
    }
   ],
   "source": [
    "deQ.popleft() # pop left"
   ]
  },
  {
   "cell_type": "code",
   "execution_count": 35,
   "id": "4ee083ef-4d7b-4437-9c83-abae2fe0851f",
   "metadata": {},
   "outputs": [
    {
     "data": {
      "text/plain": [
       "deque([1, 3, 5, 6, 7, 8, 9, 34, 67])"
      ]
     },
     "execution_count": 35,
     "metadata": {},
     "output_type": "execute_result"
    }
   ],
   "source": [
    "deQ"
   ]
  },
  {
   "cell_type": "markdown",
   "id": "e86ef35e-eb73-4369-8d3f-080c92e08bec",
   "metadata": {},
   "source": [
    "## Doubly linked list"
   ]
  },
  {
   "cell_type": "markdown",
   "id": "16f8795c-5789-4a0c-b9fd-4a2d85a90825",
   "metadata": {},
   "source": [
    "the same approach as used in the Singly Linked List but the head and next pointers will be used for proper assignation to create two links in each of the nodes in addition to the data present in the node."
   ]
  },
  {
   "cell_type": "code",
   "execution_count": 36,
   "id": "42c9452c-268a-45f1-9e00-88df6ca12f07",
   "metadata": {},
   "outputs": [],
   "source": [
    "class node:\n",
    "    def __init__(self, dataval = None):\n",
    "        self.dataval = dataval\n",
    "        self.nextval = None\n",
    "        self.preVal = None\n",
    "        \n",
    "class Dlinkedlist:\n",
    "    def __init__(self ):\n",
    "        self.head = None\n",
    "    \n",
    "    def add(self, value):\n",
    "        newNode = node(value)\n",
    "        newNode.nextval = self.head\n",
    "        if self.head is not None:\n",
    "            self.head.preVal = newNode\n",
    "        self.head = newNode\n",
    "    \n",
    "        \n",
    "    def listPrint(self):\n",
    "        tempList = self.head\n",
    "        if tempList is None:\n",
    "            raise ValueError('List is empty!')\n",
    "        while tempList is not None:\n",
    "            print(tempList.dataval)\n",
    "            tempList = tempList.nextval\n",
    "            \n",
    "    def insertBeg(self, data):\n",
    "        begNode = node(data)\n",
    "        tempList = self.head\n",
    "        while tempList is not None:\n",
    "            if tempList.nextval is None:\n",
    "                tempList.nextval = begNode\n",
    "                begNode.preVal = tempList\n",
    "                break\n",
    "            tempList = tempList.nextval\n",
    "    \n",
    "    def insertInbetween(self, Value1, Value2, Value3):\n",
    "        if Value1 is None and Value2 is None:\n",
    "            raise ValueError('The Values cannot be None!')\n",
    "            return\n",
    "        tempList = self.head\n",
    "        while tempList is not None:\n",
    "            if tempList.dataval is Value1 and tempList.nextval.dataval is Value2:\n",
    "                temp = tempList.nextval\n",
    "                newNode = node(Value3)\n",
    "                tempList.nextval = newNode\n",
    "                newNode.preVal = tempList\n",
    "                newNode.nextval = temp\n",
    "                temp.preVal = newNode\n",
    "            tempList = tempList.nextval\n",
    "\n",
    "        "
   ]
  },
  {
   "cell_type": "code",
   "execution_count": 37,
   "id": "334afc0c-81d0-4e9e-9721-87e6daf21ed1",
   "metadata": {},
   "outputs": [],
   "source": [
    "d = Dlinkedlist()"
   ]
  },
  {
   "cell_type": "code",
   "execution_count": 38,
   "id": "09bc784e-0e21-4104-8fc2-9622e2a21ba2",
   "metadata": {},
   "outputs": [],
   "source": [
    "d.add(2)\n",
    "d.add(4)\n",
    "d.add(5)\n",
    "d.add(6)"
   ]
  },
  {
   "cell_type": "code",
   "execution_count": 39,
   "id": "c193ad60-650b-41c2-8452-18c2f599750e",
   "metadata": {},
   "outputs": [
    {
     "name": "stdout",
     "output_type": "stream",
     "text": [
      "6\n",
      "5\n",
      "4\n",
      "2\n"
     ]
    }
   ],
   "source": [
    "d.listPrint()"
   ]
  },
  {
   "cell_type": "code",
   "execution_count": 40,
   "id": "9957efae-3513-4927-855a-031f62593e59",
   "metadata": {},
   "outputs": [],
   "source": [
    "d.insertBeg(1)"
   ]
  },
  {
   "cell_type": "code",
   "execution_count": 41,
   "id": "d27f780e-f2ff-4446-b043-55307ad74a96",
   "metadata": {},
   "outputs": [
    {
     "name": "stdout",
     "output_type": "stream",
     "text": [
      "6\n",
      "5\n",
      "4\n",
      "2\n",
      "1\n"
     ]
    }
   ],
   "source": [
    "d.listPrint()"
   ]
  },
  {
   "cell_type": "code",
   "execution_count": 42,
   "id": "bab16b29-ae23-44ca-9a81-a4e0ffb55dd2",
   "metadata": {},
   "outputs": [],
   "source": [
    "d.insertInbetween(5,4,33)"
   ]
  },
  {
   "cell_type": "code",
   "execution_count": 43,
   "id": "59bae9a4-e77b-46c4-b596-1661bf79a7e3",
   "metadata": {},
   "outputs": [
    {
     "name": "stdout",
     "output_type": "stream",
     "text": [
      "6\n",
      "5\n",
      "33\n",
      "4\n",
      "2\n",
      "1\n"
     ]
    }
   ],
   "source": [
    "d.listPrint()"
   ]
  },
  {
   "cell_type": "markdown",
   "id": "e8f06975-3d6f-4120-96c1-24b5ad5b2caf",
   "metadata": {},
   "source": [
    "## Hash Table"
   ]
  },
  {
   "cell_type": "code",
   "execution_count": 44,
   "id": "7b421026-9e50-4cc5-a32b-a10b59f07aa3",
   "metadata": {},
   "outputs": [],
   "source": [
    "class hashTable:\n",
    "    def __init__(self):\n",
    "        self.MAX = 100\n",
    "        self.array = [None for i in range(100)]\n",
    "        \n",
    "    def getHash(self, key):\n",
    "        h=0\n",
    "        for i in key:\n",
    "            h += ord(i) # return ascii value\n",
    "        return h % 10\n",
    "    \n",
    "    def __setitem__(self, key, value):\n",
    "        self.array[self.getHash(key)] = value \n",
    "        \n",
    "    def __getitem__(self, key):\n",
    "        newKey = self.getHash(key)\n",
    "        try:\n",
    "            return self.array[newKey]\n",
    "        except:\n",
    "            raise ValueError('Key is not present in the hash table!')"
   ]
  },
  {
   "cell_type": "code",
   "execution_count": 45,
   "id": "1d0c72c1-77e9-40d9-bd02-011e350bb8b0",
   "metadata": {},
   "outputs": [
    {
     "data": {
      "text/plain": [
       "4"
      ]
     },
     "execution_count": 45,
     "metadata": {},
     "output_type": "execute_result"
    }
   ],
   "source": [
    "h = hashTable()\n",
    "h['apr 1'] = 4\n",
    "h['apr 1']"
   ]
  },
  {
   "cell_type": "markdown",
   "id": "2df3aef7-74a1-49c4-a328-9f39c50286bb",
   "metadata": {},
   "source": [
    "## Collision Handling In Hash Table"
   ]
  },
  {
   "cell_type": "code",
   "execution_count": 46,
   "id": "d9b6c2ea-4c9a-4358-af57-8955d255e7d3",
   "metadata": {},
   "outputs": [],
   "source": [
    "class node:\n",
    "    def __init__(self, Key = None, Value = None):\n",
    "        self.Key = Key\n",
    "        self.Value = Value\n",
    "        self.nextval = None\n",
    "\n",
    "        \n",
    "class linkedlist:\n",
    "    def __init__(self ):\n",
    "        self.head = None"
   ]
  },
  {
   "cell_type": "code",
   "execution_count": 47,
   "id": "6865e1b2-5773-45ec-8b77-1e1ecb545b27",
   "metadata": {},
   "outputs": [],
   "source": [
    "class hashTable:\n",
    "    def __init__(self):\n",
    "        self.MAX = 100\n",
    "        self.array = [None for i in range(100)]\n",
    "        self.s = linkedlist()\n",
    "        \n",
    "    def getHash(self, key):\n",
    "        h=0\n",
    "        for i in key:\n",
    "            h += ord(i) # return ascii value\n",
    "        return h % 10\n",
    "    \n",
    "    def __setitem__(self, key, value):\n",
    "        if self.array[self.getHash(key)] is None:\n",
    "            self.s.head = node(key, value)\n",
    "            self.array[self.getHash(key)] =  self.s.head\n",
    "        tempList = self.array[self.getHash(key)]\n",
    "        while tempList.nextval is not None: # iterate through linked list\n",
    "            if tempList.Key == key:\n",
    "                tempList.Value = value\n",
    "            tempList = tempList.nextval\n",
    "        tempList.nextval = node(key, value)\n",
    "        \n",
    "    def __getitem__(self, key):\n",
    "        tempList = self.array[self.getHash(key)]\n",
    "        while tempList.nextval is not None: # iterate through linked list\n",
    "            if tempList.Key == key:\n",
    "                return tempList.Value\n",
    "        raise ValueError('Key is not present in the hash table!')"
   ]
  },
  {
   "cell_type": "code",
   "execution_count": 48,
   "id": "9c1ddec8-2255-41fd-a524-26a7989f5e4b",
   "metadata": {},
   "outputs": [],
   "source": [
    "h = hashTable()"
   ]
  },
  {
   "cell_type": "code",
   "execution_count": 49,
   "id": "ff6d3511-7cfc-45e8-b9c6-713d8c2b0fab",
   "metadata": {},
   "outputs": [],
   "source": [
    "h['apr 1'] = 4"
   ]
  },
  {
   "cell_type": "code",
   "execution_count": 50,
   "id": "1d215c67-cdec-4835-9b11-5215f201f973",
   "metadata": {},
   "outputs": [
    {
     "data": {
      "text/plain": [
       "'apr 1'"
      ]
     },
     "execution_count": 50,
     "metadata": {},
     "output_type": "execute_result"
    }
   ],
   "source": [
    "h.array[4].Key"
   ]
  },
  {
   "cell_type": "code",
   "execution_count": 51,
   "id": "66a26088-f16d-4d42-810a-bbfa1aa24041",
   "metadata": {},
   "outputs": [],
   "source": [
    "h['apr 1'] = 5"
   ]
  },
  {
   "cell_type": "code",
   "execution_count": 52,
   "id": "6a36131b-c76b-483e-9af7-792fa1ec5f53",
   "metadata": {},
   "outputs": [
    {
     "data": {
      "text/plain": [
       "('apr 1', 5)"
      ]
     },
     "execution_count": 52,
     "metadata": {},
     "output_type": "execute_result"
    }
   ],
   "source": [
    "h.array[4].Key, h.array[4].Value"
   ]
  },
  {
   "cell_type": "code",
   "execution_count": 55,
   "id": "d3cf75a7-1d66-420a-8e59-c27aa87ba37d",
   "metadata": {},
   "outputs": [
    {
     "data": {
      "text/plain": [
       "5"
      ]
     },
     "execution_count": 55,
     "metadata": {},
     "output_type": "execute_result"
    }
   ],
   "source": [
    "h['apr 1']"
   ]
  },
  {
   "cell_type": "code",
   "execution_count": 56,
   "id": "3dafd8ed-71e0-481f-8652-f212f70374d9",
   "metadata": {},
   "outputs": [],
   "source": [
    "#h['apr 2'] # should through an error"
   ]
  },
  {
   "cell_type": "markdown",
   "id": "f2bf7dbe-d4e3-4302-a2cd-0e1cd671111c",
   "metadata": {},
   "source": [
    "## Tree"
   ]
  },
  {
   "cell_type": "markdown",
   "id": "87503a5b-ba47-413b-8270-0e1de2fcceaa",
   "metadata": {},
   "source": [
    "A tree data structure is a hierarchical structure that is used to represent and organize data in a way that is easy to navigate and search. It is a collection of nodes that are connected by edges and has a hierarchical relationship between the nodes."
   ]
  },
  {
   "cell_type": "code",
   "execution_count": 57,
   "id": "2aa1ee43-0218-4121-9064-eef93148a7b3",
   "metadata": {},
   "outputs": [],
   "source": [
    "class treeNode:\n",
    "    def __init__(self, data = None):\n",
    "        self.data = data\n",
    "        self.parent = None\n",
    "        self.child = []\n",
    "        \n",
    "    def addChild(self, value):\n",
    "        value.parent = self\n",
    "        self.child.append(value)\n",
    "        \n",
    "    def getLevel(self):\n",
    "        p = self.parent\n",
    "        lvl = 0\n",
    "        while p is not None:\n",
    "            lvl +=1\n",
    "            p = p.parent\n",
    "        return lvl\n",
    "    \n",
    "    def printTree(self):\n",
    "        spaces = \" \" * self.getLevel()*3 if not None else \"\"\n",
    "        prefix = \"|---\" if self.parent is not None else \"\"\n",
    "        print(spaces, prefix,self.data)\n",
    "        for i in self.child:\n",
    "            i.printTree()\n",
    "        \n",
    "    def AddTree(self):\n",
    "        mainNode = treeNode(\"Electronic\")\n",
    "        tv = treeNode('TV')\n",
    "        Fridge = treeNode('Fridge')\n",
    "        Laptop = treeNode('Laptop')\n",
    "        mainNode.addChild(tv)\n",
    "        mainNode.addChild(Fridge)\n",
    "        mainNode.addChild(Laptop)\n",
    "        tv.addChild(treeNode('Samsung'))\n",
    "        tv.addChild(treeNode('LG'))\n",
    "        tv.addChild(treeNode('Panasonic'))\n",
    "        \n",
    "        mainNode.printTree()\n",
    "        \n",
    "        "
   ]
  },
  {
   "cell_type": "code",
   "execution_count": 58,
   "id": "15eb2063-9a26-4386-9d2b-798e8954e0f2",
   "metadata": {},
   "outputs": [],
   "source": [
    "t = treeNode()"
   ]
  },
  {
   "cell_type": "code",
   "execution_count": 59,
   "id": "118892f1-fb4a-4a27-9b9e-44abcc32feeb",
   "metadata": {},
   "outputs": [
    {
     "name": "stdout",
     "output_type": "stream",
     "text": [
      "  Electronic\n",
      "    |--- TV\n",
      "       |--- Samsung\n",
      "       |--- LG\n",
      "       |--- Panasonic\n",
      "    |--- Fridge\n",
      "    |--- Laptop\n"
     ]
    }
   ],
   "source": [
    "t.AddTree()"
   ]
  },
  {
   "cell_type": "markdown",
   "id": "1fa94c05-fb92-40d7-8696-6a2c27621103",
   "metadata": {},
   "source": [
    "## Binary search tree"
   ]
  },
  {
   "cell_type": "markdown",
   "id": "b89749e3-a70a-4405-b1aa-da23ed4aff92",
   "metadata": {},
   "source": [
    "A rooted binary tree data structure with the key of each internal node being greater than all the keys in the respective node's left subtree and less than the ones in its right subtree."
   ]
  },
  {
   "cell_type": "code",
   "execution_count": 60,
   "id": "cf638aed-cd42-4d39-bbde-54593c82c1a2",
   "metadata": {},
   "outputs": [],
   "source": [
    "class BST:\n",
    "    def __init__(self, data):\n",
    "        self.data = data\n",
    "        self.left = None\n",
    "        self.right = None\n",
    "\n",
    "    def add_child(self, data):\n",
    "        if data == self.data:\n",
    "            return\n",
    "        if data < self.data:\n",
    "            if self.left:\n",
    "                self.left.add_child(data)\n",
    "            else:\n",
    "                self.left = BST(data)\n",
    "        else:\n",
    "            if self.right:\n",
    "                self.right.add_child(data)\n",
    "            else:\n",
    "                self.right = BST(data)\n",
    "\n",
    "    def in_order_traversal(self):\n",
    "        elements = []\n",
    "        if self.left:\n",
    "            elements += self.left.in_order_traversal()\n",
    "        elements.append(self.data)\n",
    "        if self.right:\n",
    "            elements += self.right.in_order_traversal()\n",
    "        return elements\n",
    "\n",
    "    def post_order_traversal(self):\n",
    "        elements = []\n",
    "        if self.right:\n",
    "            elements += self.right.post_order_traversal()\n",
    "        elements.append(self.data)\n",
    "        if self.left:\n",
    "            elements += self.left.post_order_traversal()\n",
    "        return elements\n",
    "    \n",
    "    def pre_order_traversal(self):\n",
    "        elements = []\n",
    "        elements.append(self.data)\n",
    "        if self.left:\n",
    "            elements += self.left.pre_order_traversal()\n",
    "        if self.right:\n",
    "            elements += self.right.pre_order_traversal()\n",
    "        return elements\n",
    "    \n",
    "    def search(self, value):\n",
    "        if self.data == value:\n",
    "            print(True)\n",
    "        if value < self.data:\n",
    "            if self.left:\n",
    "                self.left.search(value)\n",
    "            else:\n",
    "                print(False)\n",
    "        if value > self.data:\n",
    "            if self.right:\n",
    "                return self.right.search(value)\n",
    "            else:\n",
    "                print(False)\n",
    "    \n",
    "    def find_max(self):\n",
    "        if self.right is None:\n",
    "            return self.data\n",
    "        else:\n",
    "            self.right.find_max()\n",
    "\n",
    "    def find_min(self):\n",
    "        if self.left is None:\n",
    "            return self.data\n",
    "        else:\n",
    "            self.left.find_min()\n",
    "    \n",
    "    def delete(self, value):\n",
    "        if value < self.data:\n",
    "            self.left = self.left.delete(value)\n",
    "        elif value > self.data:\n",
    "            self.right = self.right.delete(value)\n",
    "        else:\n",
    "            if self.left is None and self.right is None:\n",
    "                return None\n",
    "            if self.left is None:\n",
    "                return self.right\n",
    "            if self.right is None:\n",
    "                return self.right\n",
    "            min_value = self.right.find_min()\n",
    "            self.data = min_value\n",
    "            self.right = self.right.delete(min_value)\n",
    "        return self\n",
    "            \n",
    "            \n",
    "def build_tree(value):\n",
    "    root = BST(value[0])\n",
    "    for i in range(len(value)):\n",
    "        root.add_child(value[i])\n",
    "    return root"
   ]
  },
  {
   "cell_type": "code",
   "execution_count": 61,
   "id": "e402771f-be03-4819-8619-7025289b27ce",
   "metadata": {},
   "outputs": [],
   "source": [
    "import random "
   ]
  },
  {
   "cell_type": "code",
   "execution_count": 62,
   "id": "fbdb595a-f74a-49d2-a5ae-6995e429c39d",
   "metadata": {},
   "outputs": [],
   "source": [
    "#b  = [random.randrange(1,99) for i in range(10)]"
   ]
  },
  {
   "cell_type": "code",
   "execution_count": 63,
   "id": "5f564938-29b5-438e-aab8-07293fdf2466",
   "metadata": {},
   "outputs": [],
   "source": [
    "b = [68, 32, 45, 8, 47, 9, 8, 32, 43, 31]"
   ]
  },
  {
   "cell_type": "code",
   "execution_count": 64,
   "id": "20088922-c247-4303-b082-cd068baf219b",
   "metadata": {},
   "outputs": [],
   "source": [
    "root = build_tree(b)"
   ]
  },
  {
   "cell_type": "code",
   "execution_count": 65,
   "id": "c7f00220-9529-45c4-b149-bfd2f3c988a6",
   "metadata": {},
   "outputs": [
    {
     "data": {
      "text/plain": [
       "[8, 9, 31, 32, 43, 45, 47, 68]"
      ]
     },
     "execution_count": 65,
     "metadata": {},
     "output_type": "execute_result"
    }
   ],
   "source": [
    "root.in_order_traversal()"
   ]
  },
  {
   "cell_type": "markdown",
   "id": "a9aabebc-2230-4120-8a2b-84965157acf3",
   "metadata": {},
   "source": [
    "Inorder Traversal. An inorder traversal first visits the left child (including its entire subtree), then visits the node, and finally visits the right child (including its entire subtree). The binary search tree makes use of this traversal to print all nodes in ascending order of value."
   ]
  },
  {
   "cell_type": "code",
   "execution_count": 66,
   "id": "758f488c-26e5-4776-a0cb-7d41b7f11448",
   "metadata": {},
   "outputs": [
    {
     "data": {
      "text/plain": [
       "[68, 47, 45, 43, 32, 31, 9, 8]"
      ]
     },
     "execution_count": 66,
     "metadata": {},
     "output_type": "execute_result"
    }
   ],
   "source": [
    "root.post_order_traversal()"
   ]
  },
  {
   "cell_type": "markdown",
   "id": "13510bd2-6dac-4470-92bf-91d1a84cb7b6",
   "metadata": {},
   "source": [
    "Postorder traversal is used to visit the node in the tree. It pursues the rule of LRN, which means Left-right-node. Basically, this traversal helps in getting the postfix phrase of a tree."
   ]
  },
  {
   "cell_type": "code",
   "execution_count": 67,
   "id": "a7b8b94f-2dab-4d9c-8ddd-3ef38bdd60fc",
   "metadata": {},
   "outputs": [
    {
     "data": {
      "text/plain": [
       "[68, 32, 8, 9, 31, 45, 43, 47]"
      ]
     },
     "execution_count": 67,
     "metadata": {},
     "output_type": "execute_result"
    }
   ],
   "source": [
    "root.pre_order_traversal()"
   ]
  },
  {
   "cell_type": "raw",
   "id": "2c7b58dd-88a0-4438-a59b-0a39122352ea",
   "metadata": {},
   "source": [
    "A preorder traversal is a type of tree traversal that visits the root node first, followed by the left subtree, and then the right subtree. It is called a preorder traversal because the root node is always visited before any of its child nodes."
   ]
  },
  {
   "cell_type": "code",
   "execution_count": 68,
   "id": "72478b58-4e6e-42ab-a7db-a348f86ae334",
   "metadata": {},
   "outputs": [
    {
     "name": "stdout",
     "output_type": "stream",
     "text": [
      "True\n",
      "None\n"
     ]
    }
   ],
   "source": [
    "print(root.search(47))"
   ]
  },
  {
   "cell_type": "code",
   "execution_count": 69,
   "id": "5425d0ff-e238-4440-961f-3b4c022055f7",
   "metadata": {},
   "outputs": [
    {
     "data": {
      "text/plain": [
       "68"
      ]
     },
     "execution_count": 69,
     "metadata": {},
     "output_type": "execute_result"
    }
   ],
   "source": [
    "root.find_max()"
   ]
  },
  {
   "cell_type": "code",
   "execution_count": 70,
   "id": "608e3854-26f9-4ed9-a73c-23a433a85ebf",
   "metadata": {},
   "outputs": [],
   "source": [
    "root.find_min()"
   ]
  },
  {
   "cell_type": "code",
   "execution_count": 71,
   "id": "d51d1f18-f86a-4c9f-867c-fb0ab002aad9",
   "metadata": {},
   "outputs": [
    {
     "data": {
      "text/plain": [
       "<__main__.BST at 0x1b6d1e33250>"
      ]
     },
     "execution_count": 71,
     "metadata": {},
     "output_type": "execute_result"
    }
   ],
   "source": [
    "root.delete(31)"
   ]
  },
  {
   "cell_type": "code",
   "execution_count": 72,
   "id": "ade8af1a-0a77-4fff-96c4-4b4b0cae0d01",
   "metadata": {},
   "outputs": [
    {
     "data": {
      "text/plain": [
       "[8, 9, 32, 43, 45, 47, 68]"
      ]
     },
     "execution_count": 72,
     "metadata": {},
     "output_type": "execute_result"
    }
   ],
   "source": [
    "root.in_order_traversal()"
   ]
  },
  {
   "cell_type": "code",
   "execution_count": 73,
   "id": "0fb76c70-4968-4df5-8d2f-bee8d31f043e",
   "metadata": {},
   "outputs": [
    {
     "data": {
      "text/plain": [
       "<__main__.BST at 0x1b6d1e33250>"
      ]
     },
     "execution_count": 73,
     "metadata": {},
     "output_type": "execute_result"
    }
   ],
   "source": [
    "root.delete(9)"
   ]
  },
  {
   "cell_type": "code",
   "execution_count": 74,
   "id": "9678178f-ecb5-4019-b219-b19bd0489a9a",
   "metadata": {},
   "outputs": [
    {
     "data": {
      "text/plain": [
       "[8, 32, 43, 45, 47, 68]"
      ]
     },
     "execution_count": 74,
     "metadata": {},
     "output_type": "execute_result"
    }
   ],
   "source": [
    "root.in_order_traversal()"
   ]
  },
  {
   "cell_type": "markdown",
   "id": "4ea8a0dd-96ea-474d-b349-e273d9fd218a",
   "metadata": {},
   "source": [
    "## Graphs"
   ]
  },
  {
   "cell_type": "markdown",
   "id": "4b04f690-b290-4dce-9470-0ee68802508d",
   "metadata": {},
   "source": [
    "A graph is a pictorial representation of a set of objects where some pairs of objects are connected by links. The interconnected objects are represented by points termed as vertices, and the links that connect the vertices are called edges. The various terms and functionalities associated with a graph is described in great detail in our tutorial here."
   ]
  },
  {
   "cell_type": "code",
   "execution_count": 75,
   "id": "e8aa3b48-63f1-46fb-bb84-70666c29c386",
   "metadata": {},
   "outputs": [],
   "source": [
    "class graph:\n",
    "    def __init__(self,gdict=None):\n",
    "        if gdict is None:\n",
    "            gdict = {}\n",
    "        self.gdict = gdict\n",
    "\n",
    "    def edges(self):\n",
    "        return self.findedges()\n",
    "    \n",
    "# Get the keys of the dictionary\n",
    "    def getVertices(self):\n",
    "        return list(self.gdict.keys())\n",
    "    \n",
    "# Find the distinct list of edges\n",
    "    def findedges(self):\n",
    "        edgename = []\n",
    "        for vrtx in self.gdict:\n",
    "            for nxtvrtx in self.gdict[vrtx]:\n",
    "                if {nxtvrtx, vrtx} not in edgename:\n",
    "                    edgename.append({vrtx, nxtvrtx})\n",
    "        return edgename\n",
    "# Add the vertex as a key\n",
    "    def addVertex(self, vrtx):\n",
    "        if vrtx not in self.gdict.keys():\n",
    "            self.gdict[vrtx] = []\n",
    "# Add the new edge\n",
    "    def addEdge(self, edge):\n",
    "        edge = set(edge)\n",
    "        if  2 > len(edge):\n",
    "            raise ValueError(\"Can't add self node\")\n",
    "        (vrtx1, vrtx2) = tuple(edge)\n",
    "        if vrtx1 not in self.gdict:\n",
    "            self.gdict[vrtx1] = [vrtx2]\n",
    "        else:\n",
    "            self.gdict[vrtx1].append(vrtx2)\n",
    "            \n",
    "# Create the dictionary with graph elements\n",
    "graph_elements = { \n",
    "   \"a\" : [\"b\",\"c\"],\n",
    "   \"b\" : [\"a\", \"d\"],\n",
    "   \"c\" : [\"a\", \"d\"],\n",
    "   \"d\" : [\"e\"],\n",
    "   \"e\" : [\"d\"]\n",
    "}"
   ]
  },
  {
   "cell_type": "code",
   "execution_count": 76,
   "id": "f4dd819a-9baf-4613-a5a0-a7f107219123",
   "metadata": {},
   "outputs": [
    {
     "name": "stdout",
     "output_type": "stream",
     "text": [
      "['a', 'b', 'c', 'd', 'e']\n"
     ]
    }
   ],
   "source": [
    "g = graph(graph_elements)\n",
    "print(g.getVertices())"
   ]
  },
  {
   "cell_type": "code",
   "execution_count": 77,
   "id": "4c6749cc-a437-4906-beae-b4c10cf34556",
   "metadata": {},
   "outputs": [
    {
     "name": "stdout",
     "output_type": "stream",
     "text": [
      "[{'b', 'a'}, {'c', 'a'}, {'b', 'd'}, {'d', 'c'}, {'d', 'e'}]\n"
     ]
    }
   ],
   "source": [
    "print(g.edges())"
   ]
  },
  {
   "cell_type": "code",
   "execution_count": 78,
   "id": "ef1b1f07-26a9-455a-93d3-cec30033044b",
   "metadata": {},
   "outputs": [],
   "source": [
    "g.addVertex('f')"
   ]
  },
  {
   "cell_type": "code",
   "execution_count": 79,
   "id": "e568acf2-8d7f-4f00-922c-0806f663d87b",
   "metadata": {},
   "outputs": [
    {
     "data": {
      "text/plain": [
       "['a', 'b', 'c', 'd', 'e', 'f']"
      ]
     },
     "execution_count": 79,
     "metadata": {},
     "output_type": "execute_result"
    }
   ],
   "source": [
    "g.getVertices()"
   ]
  },
  {
   "cell_type": "code",
   "execution_count": 80,
   "id": "6228a94f-7442-4029-bcca-04eda3a6e7dc",
   "metadata": {},
   "outputs": [],
   "source": [
    "g.addEdge({'f','a'})"
   ]
  },
  {
   "cell_type": "code",
   "execution_count": 81,
   "id": "0cebff23-0400-4394-acd7-1755fa55a8e3",
   "metadata": {},
   "outputs": [
    {
     "name": "stdout",
     "output_type": "stream",
     "text": [
      "[{'b', 'a'}, {'c', 'a'}, {'f', 'a'}, {'b', 'd'}, {'d', 'c'}, {'d', 'e'}]\n"
     ]
    }
   ],
   "source": [
    "print(g.edges())"
   ]
  },
  {
   "cell_type": "code",
   "execution_count": 82,
   "id": "546d7ae5-d1d5-4121-9258-15ed6f451a71",
   "metadata": {},
   "outputs": [],
   "source": [
    "g.addEdge({'f','b'})"
   ]
  },
  {
   "cell_type": "code",
   "execution_count": 83,
   "id": "b88414a7-a9ba-4ef4-a0e6-cb67e9414599",
   "metadata": {},
   "outputs": [
    {
     "name": "stdout",
     "output_type": "stream",
     "text": [
      "[{'b', 'a'}, {'c', 'a'}, {'f', 'a'}, {'b', 'd'}, {'b', 'f'}, {'d', 'c'}, {'d', 'e'}]\n"
     ]
    }
   ],
   "source": [
    "print(g.edges())"
   ]
  },
  {
   "cell_type": "code",
   "execution_count": 84,
   "id": "08b3a281-fe35-4278-ad95-9e3792c60ed3",
   "metadata": {},
   "outputs": [
    {
     "ename": "ValueError",
     "evalue": "Can't add self node",
     "output_type": "error",
     "traceback": [
      "\u001b[1;31m---------------------------------------------------------------------------\u001b[0m",
      "\u001b[1;31mValueError\u001b[0m                                Traceback (most recent call last)",
      "Input \u001b[1;32mIn [84]\u001b[0m, in \u001b[0;36m<cell line: 1>\u001b[1;34m()\u001b[0m\n\u001b[1;32m----> 1\u001b[0m \u001b[43mg\u001b[49m\u001b[38;5;241;43m.\u001b[39;49m\u001b[43maddEdge\u001b[49m\u001b[43m(\u001b[49m\u001b[43m{\u001b[49m\u001b[38;5;124;43m'\u001b[39;49m\u001b[38;5;124;43mf\u001b[39;49m\u001b[38;5;124;43m'\u001b[39;49m\u001b[43m,\u001b[49m\u001b[38;5;124;43m'\u001b[39;49m\u001b[38;5;124;43mf\u001b[39;49m\u001b[38;5;124;43m'\u001b[39;49m\u001b[43m}\u001b[49m\u001b[43m)\u001b[49m\n",
      "Input \u001b[1;32mIn [75]\u001b[0m, in \u001b[0;36mgraph.addEdge\u001b[1;34m(self, edge)\u001b[0m\n\u001b[0;32m     28\u001b[0m edge \u001b[38;5;241m=\u001b[39m \u001b[38;5;28mset\u001b[39m(edge)\n\u001b[0;32m     29\u001b[0m \u001b[38;5;28;01mif\u001b[39;00m  \u001b[38;5;241m2\u001b[39m \u001b[38;5;241m>\u001b[39m \u001b[38;5;28mlen\u001b[39m(edge):\n\u001b[1;32m---> 30\u001b[0m     \u001b[38;5;28;01mraise\u001b[39;00m \u001b[38;5;167;01mValueError\u001b[39;00m(\u001b[38;5;124m\"\u001b[39m\u001b[38;5;124mCan\u001b[39m\u001b[38;5;124m'\u001b[39m\u001b[38;5;124mt add self node\u001b[39m\u001b[38;5;124m\"\u001b[39m)\n\u001b[0;32m     31\u001b[0m (vrtx1, vrtx2) \u001b[38;5;241m=\u001b[39m \u001b[38;5;28mtuple\u001b[39m(edge)\n\u001b[0;32m     32\u001b[0m \u001b[38;5;28;01mif\u001b[39;00m vrtx1 \u001b[38;5;129;01mnot\u001b[39;00m \u001b[38;5;129;01min\u001b[39;00m \u001b[38;5;28mself\u001b[39m\u001b[38;5;241m.\u001b[39mgdict:\n",
      "\u001b[1;31mValueError\u001b[0m: Can't add self node"
     ]
    }
   ],
   "source": [
    "g.addEdge({'f','f'}) # should throw an error"
   ]
  },
  {
   "cell_type": "markdown",
   "id": "ed9e7670-6933-4c60-93f1-f174d365d597",
   "metadata": {},
   "source": [
    "## Bubble Sort"
   ]
  },
  {
   "cell_type": "markdown",
   "id": "45f6d26e-296c-4b2c-aa04-3f3667c79dd1",
   "metadata": {},
   "source": [
    "Bubble sort is a simple sorting algorithm. This sorting algorithm is comparison-based algorithm in which each pair of adjacent elements is compared and the elements are swapped if they are not in order. This algorithm is not suitable for large data sets as its average and worst case complexity are of Ο(n2) where n is the number of items."
   ]
  },
  {
   "cell_type": "code",
   "execution_count": 85,
   "id": "665d23c6-5c89-4cdb-929c-b5176d7eb86b",
   "metadata": {},
   "outputs": [],
   "source": [
    "b = list(set([68, 32, 45, 8, 47, 9, 8, 32, 43, 31]))"
   ]
  },
  {
   "cell_type": "code",
   "execution_count": 86,
   "id": "549ccf30-263b-4f21-9681-531a7ef0cedb",
   "metadata": {},
   "outputs": [],
   "source": [
    "def bsort(value):\n",
    "    size = len(value)\n",
    "    for i in range(size - 1):\n",
    "        for j in range(size - 1 - i):\n",
    "            if value[j] > value[j+1]:\n",
    "                value[j], value[j+1] = value[j+1], value[j]\n",
    "    return value"
   ]
  },
  {
   "cell_type": "code",
   "execution_count": 87,
   "id": "a341a8e9-7e11-4bb5-8de3-1e9b27d5eeec",
   "metadata": {},
   "outputs": [
    {
     "name": "stdout",
     "output_type": "stream",
     "text": [
      "2.19 µs ± 117 ns per loop (mean ± std. dev. of 7 runs, 100,000 loops each)\n"
     ]
    }
   ],
   "source": [
    "%%timeit\n",
    "bsort(b)"
   ]
  },
  {
   "cell_type": "code",
   "execution_count": 88,
   "id": "d13b0c58-06d4-4b82-8f27-ac2a3a3c723a",
   "metadata": {},
   "outputs": [
    {
     "data": {
      "text/plain": [
       "[8, 9, 31, 32, 43, 45, 47, 68]"
      ]
     },
     "execution_count": 88,
     "metadata": {},
     "output_type": "execute_result"
    }
   ],
   "source": [
    "bsort(b)"
   ]
  },
  {
   "cell_type": "markdown",
   "id": "82c760ec-42b1-4996-b139-f708ed7805e2",
   "metadata": {},
   "source": [
    "## Quick Sort"
   ]
  },
  {
   "cell_type": "markdown",
   "id": "076c43a9-094c-4b54-a1cc-93111a40bbda",
   "metadata": {},
   "source": [
    "Quick sort is a highly efficient sorting algorithm and is based on partitioning of array of data into smaller arrays. A large array is partitioned into two arrays one of which holds values smaller than the specified value, say pivot, based on which the partition is made and another array holds values greater than the pivot value."
   ]
  },
  {
   "cell_type": "code",
   "execution_count": 89,
   "id": "e1eb6cfc-c4ee-4520-9a00-20e5147bd671",
   "metadata": {},
   "outputs": [
    {
     "data": {
      "text/plain": [
       "[32, 68, 8, 9, 43, 45, 47, 31]"
      ]
     },
     "execution_count": 89,
     "metadata": {},
     "output_type": "execute_result"
    }
   ],
   "source": [
    "b = list(set([68, 32, 45, 8, 47, 9, 8, 32, 43, 31]))\n",
    "b"
   ]
  },
  {
   "cell_type": "code",
   "execution_count": 90,
   "id": "8d54f6be-bdbc-4c55-9bad-e4ab8cc9f6b1",
   "metadata": {},
   "outputs": [],
   "source": [
    "def partition(arr, inx0, inxn):\n",
    "    pivot = inx0\n",
    "    for i in range(inx0 + 1, inxn + 1):\n",
    "        if arr[i] < arr[inx0]:\n",
    "            pivot += 1\n",
    "            arr[i], arr[pivot] = arr[pivot], arr[i]\n",
    "    arr[pivot], arr[inx0] = arr[inx0], arr[pivot]\n",
    "    return pivot"
   ]
  },
  {
   "cell_type": "code",
   "execution_count": 91,
   "id": "588d51b5-73a9-4b16-af00-3393fb040c64",
   "metadata": {},
   "outputs": [],
   "source": [
    "def quickSort(arr, inx0 = 0, inxn=None):\n",
    "    if inxn is None:\n",
    "        inxn = len(arr) - 1\n",
    "    def _quick_sort(arr, inx0, inxn):\n",
    "        if inx0 >= inxn:\n",
    "            return\n",
    "        pivotIndex = partition(arr, inx0, inxn)\n",
    "        _quick_sort(arr, inx0, pivotIndex - 1)\n",
    "        _quick_sort(arr, pivotIndex + 1, inxn)\n",
    "    return _quick_sort(arr, inx0, inxn)"
   ]
  },
  {
   "cell_type": "code",
   "execution_count": 92,
   "id": "09af27f7-f2f6-426e-86fd-d9020709c51c",
   "metadata": {},
   "outputs": [
    {
     "name": "stdout",
     "output_type": "stream",
     "text": [
      "3.99 µs ± 92.2 ns per loop (mean ± std. dev. of 7 runs, 100,000 loops each)\n"
     ]
    }
   ],
   "source": [
    "%%timeit\n",
    "quickSort(b)"
   ]
  },
  {
   "cell_type": "code",
   "execution_count": 93,
   "id": "f2f645f2-16ab-4432-8a30-9aa94a263617",
   "metadata": {},
   "outputs": [
    {
     "data": {
      "text/plain": [
       "[8, 9, 31, 32, 43, 45, 47, 68]"
      ]
     },
     "execution_count": 93,
     "metadata": {},
     "output_type": "execute_result"
    }
   ],
   "source": [
    "b"
   ]
  },
  {
   "cell_type": "markdown",
   "id": "9ebf7b95-7ce4-4fb3-986d-016cb3cafbea",
   "metadata": {},
   "source": [
    "## Insertion Sort"
   ]
  },
  {
   "cell_type": "markdown",
   "id": "694a4d0f-41a0-4bee-881c-f0a499516752",
   "metadata": {},
   "source": [
    "Insertion sort involves finding the right place for a given element in a sorted list. So in beginning we compare the first two elements and sort them by comparing them. Then we pick the third element and find its proper position among the previous two sorted elements. This way we gradually go on adding more elements to the already sorted list by putting them in their proper position."
   ]
  },
  {
   "cell_type": "code",
   "execution_count": 94,
   "id": "1c9a53fb-d8b3-4c6c-9dae-72f4d19027cf",
   "metadata": {},
   "outputs": [
    {
     "data": {
      "text/plain": [
       "[32, 68, 8, 9, 43, 45, 47, 31]"
      ]
     },
     "execution_count": 94,
     "metadata": {},
     "output_type": "execute_result"
    }
   ],
   "source": [
    "b = list(set([68, 32, 45, 8, 47, 9, 8, 32, 43, 31]))\n",
    "b"
   ]
  },
  {
   "cell_type": "code",
   "execution_count": 96,
   "id": "8b45b998-cebd-4653-b6fe-b7a9ea813aed",
   "metadata": {},
   "outputs": [],
   "source": [
    "class insertion_sort:\n",
    "    def run(self, arr):\n",
    "        if (n:=len(arr)) <= 1:\n",
    "            return\n",
    "        for i in range(1, n):\n",
    "            key = arr[i]\n",
    "            j= i-1\n",
    "            while j>=0 and key < arr[j]:\n",
    "                arr[j+1] = arr[j]\n",
    "                j-=1\n",
    "            arr[j+1] = key"
   ]
  },
  {
   "cell_type": "code",
   "execution_count": 98,
   "id": "dd242a05-a4d3-4765-83bf-48c6ba63c4fd",
   "metadata": {},
   "outputs": [
    {
     "name": "stdout",
     "output_type": "stream",
     "text": [
      "Elapsed time: 6.3 µs\n"
     ]
    }
   ],
   "source": [
    "time(insertion_sort(), b)"
   ]
  },
  {
   "cell_type": "code",
   "execution_count": 99,
   "id": "c1322321-c1f1-45a9-8b6f-031b9df9d062",
   "metadata": {},
   "outputs": [
    {
     "data": {
      "text/plain": [
       "[8, 9, 31, 32, 43, 45, 47, 68]"
      ]
     },
     "execution_count": 99,
     "metadata": {},
     "output_type": "execute_result"
    }
   ],
   "source": [
    "b"
   ]
  },
  {
   "cell_type": "markdown",
   "id": "87f207a2-ea50-4c0e-a18d-0f51ed94abf2",
   "metadata": {},
   "source": [
    "## Merge Sort"
   ]
  },
  {
   "cell_type": "code",
   "execution_count": 100,
   "id": "8ebf0882-f205-4167-8107-6ac03e496f00",
   "metadata": {},
   "outputs": [
    {
     "data": {
      "text/plain": [
       "[32, 68, 8, 9, 43, 45, 47, 31]"
      ]
     },
     "execution_count": 100,
     "metadata": {},
     "output_type": "execute_result"
    }
   ],
   "source": [
    "b = list(set([68, 32, 45, 8, 47, 9, 8, 32, 43, 31]))\n",
    "b"
   ]
  },
  {
   "cell_type": "code",
   "execution_count": 101,
   "id": "46fe0f4a-c2b8-48c4-baff-c3cdf041ab6d",
   "metadata": {},
   "outputs": [],
   "source": [
    "class merge_sort:\n",
    "    def merge(self, left, right):\n",
    "        res = []\n",
    "        while len(left) !=0 and len(right) !=0:\n",
    "            if left[0] < right[0]:\n",
    "                res.append(left[0])\n",
    "                left.remove(left[0])\n",
    "            else:\n",
    "                res.append(right[0])\n",
    "                right.remove(right[0])\n",
    "        if len(left) == 0:\n",
    "            res = res + right \n",
    "        else:\n",
    "            res = res + left\n",
    "        return res\n",
    "\n",
    "    def run(self, arr):\n",
    "        if len(arr) <=1:\n",
    "            return arr\n",
    "        middle_indx = len(arr)//2\n",
    "        left_side = arr[middle_indx:]\n",
    "        right_side = arr[:middle_indx]\n",
    "\n",
    "        left_list = self.run(left_side)\n",
    "        right_list = self.run(right_side)\n",
    "        return list(self.merge(left_list, right_list))"
   ]
  },
  {
   "cell_type": "code",
   "execution_count": 102,
   "id": "8d4120f2-079d-4761-9153-483fd133019b",
   "metadata": {},
   "outputs": [
    {
     "data": {
      "text/plain": [
       "[8, 9, 31, 32, 43, 45, 47, 68]"
      ]
     },
     "execution_count": 102,
     "metadata": {},
     "output_type": "execute_result"
    }
   ],
   "source": [
    "merge_sort().run(b)"
   ]
  },
  {
   "cell_type": "code",
   "execution_count": 103,
   "id": "751287db-5c58-44cb-8573-5b7ec68352f7",
   "metadata": {},
   "outputs": [
    {
     "name": "stdout",
     "output_type": "stream",
     "text": [
      "Elapsed time: 15.2 µs\n"
     ]
    }
   ],
   "source": [
    "time(merge_sort(), b)"
   ]
  },
  {
   "cell_type": "markdown",
   "id": "614a269e-80f1-4e53-8600-da1a11f1617b",
   "metadata": {},
   "source": [
    "## Shell Sort"
   ]
  },
  {
   "cell_type": "markdown",
   "id": "4a6be9e5-57c9-4418-b31b-28fa4cae9f14",
   "metadata": {},
   "source": [
    "Shell Sort involves sorting elements which are away from each other. We sort a large sublist of a given list and go on reducing the size of the list until all elements are sorted. The below program finds the gap by equating it to half of the length of the list size and then starts sorting all elements in it. Then we keep resetting the gap until the entire list is sorted."
   ]
  },
  {
   "cell_type": "code",
   "execution_count": 163,
   "id": "7f34fe71-f1be-44a7-9d7b-69fba3fc823f",
   "metadata": {},
   "outputs": [],
   "source": [
    "class shellSort:\n",
    "    def run(self, arr):\n",
    "        gap = len(arr)//2\n",
    "        while gap>0:\n",
    "            for i in range(gap, len(arr)):\n",
    "                key = arr[i]\n",
    "                j = i\n",
    "                while j>=gap and key < arr[j - gap]:\n",
    "                    arr[j] = arr[j - gap]\n",
    "                    j -= gap\n",
    "                    arr[j] = key\n",
    "            gap = gap//2\n",
    "        return arr"
   ]
  },
  {
   "cell_type": "code",
   "execution_count": 166,
   "id": "4519e7bf-6645-4322-a29a-1f5d85a8f022",
   "metadata": {},
   "outputs": [
    {
     "name": "stdout",
     "output_type": "stream",
     "text": [
      "Sorted Array: [8, 9, 31, 32, 43, 45, 47, 68]\n",
      "Elapsed time: 4.8 µs\n"
     ]
    }
   ],
   "source": [
    "time(shellSort(),b.copy())"
   ]
  },
  {
   "cell_type": "markdown",
   "id": "fc970ad0-4bb5-48d6-a302-d62bedde0506",
   "metadata": {},
   "source": [
    "## Selection Sort"
   ]
  },
  {
   "cell_type": "markdown",
   "id": "e54694cf-5b6b-466a-a22e-d89c55f17db7",
   "metadata": {},
   "source": [
    "In selection sort we start by finding the minimum value in a given list and move it to a sorted list. Then we repeat the process for each of the remaining elements in the unsorted list. The next element entering the sorted list is compared with the existing elements and placed at its correct position.So, at the end all the elements from the unsorted list are sorted."
   ]
  },
  {
   "cell_type": "code",
   "execution_count": 138,
   "id": "59c33831-1e2a-43c0-9d1e-2068abfd22a5",
   "metadata": {},
   "outputs": [
    {
     "data": {
      "text/plain": [
       "[32, 68, 8, 9, 43, 45, 47, 31]"
      ]
     },
     "execution_count": 138,
     "metadata": {},
     "output_type": "execute_result"
    }
   ],
   "source": [
    "b = list(set([68, 32, 45, 8, 47, 9, 8, 32, 43, 31]))\n",
    "b"
   ]
  },
  {
   "cell_type": "code",
   "execution_count": 160,
   "id": "d2e0e96f-8984-4bfd-a963-edcc09c02921",
   "metadata": {},
   "outputs": [],
   "source": [
    "class selection_sort:\n",
    "    def run(self, arr):\n",
    "        n = len(arr)\n",
    "        for idx in range(n):\n",
    "            min_idx = idx\n",
    "            for j in range(idx+1, n):\n",
    "                if arr[min_idx] > arr[j]:\n",
    "                    min_idx = j\n",
    "            arr[idx], arr[min_idx] = arr[min_idx], arr[idx]\n",
    "        return arr"
   ]
  },
  {
   "cell_type": "code",
   "execution_count": 161,
   "id": "6c951e7e-edbd-428b-96df-83086f733ccd",
   "metadata": {},
   "outputs": [
    {
     "name": "stdout",
     "output_type": "stream",
     "text": [
      "Sorted Array: [8, 9, 31, 32, 43, 45, 47, 68]\n",
      "Elapsed time: 7.9 µs\n"
     ]
    }
   ],
   "source": [
    "time(selection_sort(), b.copy())"
   ]
  },
  {
   "cell_type": "markdown",
   "id": "abb9fcef-f587-4db7-b4a7-ed0ceec8eb45",
   "metadata": {
    "tags": []
   },
   "source": [
    "## Backtracking"
   ]
  },
  {
   "cell_type": "code",
   "execution_count": null,
   "id": "11794889-6780-4d06-8eb8-9696a9b977dd",
   "metadata": {},
   "outputs": [],
   "source": []
  },
  {
   "cell_type": "markdown",
   "id": "ce3a59ca",
   "metadata": {},
   "source": [
    "# Search Algorithms"
   ]
  },
  {
   "cell_type": "code",
   "execution_count": 2,
   "id": "f241fca1",
   "metadata": {},
   "outputs": [],
   "source": [
    "from random import randrange"
   ]
  },
  {
   "cell_type": "code",
   "execution_count": 68,
   "id": "e73051c3",
   "metadata": {},
   "outputs": [],
   "source": [
    "# array = [randrange(1,100) for _ in range(20)]\n",
    "array = [5, 6, 13, 15, 19, 22, 27, 33, 34, 42, 51, 55, 70, 72, 75, 81, 87, 88, 93, 97]\n",
    "search = 75"
   ]
  },
  {
   "cell_type": "markdown",
   "id": "a5cf3c4d",
   "metadata": {},
   "source": [
    "## Linear Search"
   ]
  },
  {
   "cell_type": "code",
   "execution_count": 59,
   "id": "26fc86c4",
   "metadata": {},
   "outputs": [],
   "source": [
    "def linear_search(array, search) -> bool: \n",
    "    for i in array:\n",
    "        if i == search:\n",
    "            return True\n",
    "    return False"
   ]
  },
  {
   "cell_type": "code",
   "execution_count": 78,
   "id": "26e6a099",
   "metadata": {},
   "outputs": [
    {
     "name": "stdout",
     "output_type": "stream",
     "text": [
      "3.18 µs ± 226 ns per loop (mean ± std. dev. of 7 runs, 100,000 loops each)\n"
     ]
    }
   ],
   "source": [
    "%%timeit\n",
    "linear_search(array, search)"
   ]
  },
  {
   "cell_type": "markdown",
   "id": "e92dbc6f",
   "metadata": {},
   "source": [
    "## Binary Search"
   ]
  },
  {
   "cell_type": "code",
   "execution_count": 31,
   "id": "e03bd0ef",
   "metadata": {},
   "outputs": [],
   "source": [
    "def binary_search(array, search) -> bool:\n",
    "    lower, upper = 0, len(array) - 1\n",
    "    while lower <= upper:\n",
    "        mid = (lower + upper)// 2\n",
    "        if array[mid] == search:\n",
    "            return True\n",
    "        elif search < array[mid]:\n",
    "            upper = mid - 1\n",
    "        else:\n",
    "            lower = mid + 1\n",
    "    return False"
   ]
  },
  {
   "cell_type": "code",
   "execution_count": 76,
   "id": "b542fd5c",
   "metadata": {},
   "outputs": [
    {
     "name": "stdout",
     "output_type": "stream",
     "text": [
      "1.61 µs ± 213 ns per loop (mean ± std. dev. of 7 runs, 1,000,000 loops each)\n"
     ]
    }
   ],
   "source": [
    "%%timeit\n",
    "binary_search(array, search)"
   ]
  },
  {
   "cell_type": "markdown",
   "id": "50d50e67",
   "metadata": {},
   "source": [
    "## Jump Search"
   ]
  },
  {
   "cell_type": "code",
   "execution_count": 82,
   "id": "a98f229e",
   "metadata": {},
   "outputs": [],
   "source": [
    "def jump_search(array, search) -> bool:\n",
    "    n = len(array)\n",
    "    step = 4 #int(n ** .5)\n",
    "    current, prev = step, 0\n",
    "\n",
    "    while array[min(current, n)-1] < search:\n",
    "        prev = current\n",
    "        current += step\n",
    "        if prev >= n:\n",
    "            return False\n",
    "        \n",
    "    for i in range(prev, min(current, n)):\n",
    "        if array[i] == search:\n",
    "            return True\n",
    "    return False"
   ]
  },
  {
   "cell_type": "code",
   "execution_count": 83,
   "id": "c887e2ab",
   "metadata": {},
   "outputs": [
    {
     "name": "stdout",
     "output_type": "stream",
     "text": [
      "4.12 µs ± 261 ns per loop (mean ± std. dev. of 7 runs, 100,000 loops each)\n"
     ]
    }
   ],
   "source": [
    "%%timeit\n",
    "jump_search(array, search)"
   ]
  },
  {
   "cell_type": "markdown",
   "id": "2e783a6c",
   "metadata": {},
   "source": [
    "## Exponential Search"
   ]
  },
  {
   "cell_type": "code",
   "execution_count": 69,
   "id": "19dccff2",
   "metadata": {},
   "outputs": [],
   "source": [
    "n = len(array)"
   ]
  },
  {
   "cell_type": "code",
   "execution_count": 74,
   "id": "e0c47a7d",
   "metadata": {},
   "outputs": [],
   "source": [
    "def exp_search(array, search):\n",
    "    x = 1\n",
    "    while x < n and array[x] <= search:\n",
    "        x = x*2\n",
    "    if array[x] == search:\n",
    "        return True\n",
    "    else:\n",
    "        return binary_search(array[x:x*2], search)"
   ]
  },
  {
   "cell_type": "code",
   "execution_count": 75,
   "id": "d7e0e930",
   "metadata": {},
   "outputs": [
    {
     "name": "stdout",
     "output_type": "stream",
     "text": [
      "4.48 µs ± 203 ns per loop (mean ± std. dev. of 7 runs, 100,000 loops each)\n"
     ]
    }
   ],
   "source": [
    "%%timeit\n",
    "exp_search(array, search)"
   ]
  },
  {
   "cell_type": "markdown",
   "id": "da9f5f3f",
   "metadata": {},
   "source": [
    "## Fibonacci Search"
   ]
  },
  {
   "cell_type": "code",
   "execution_count": 85,
   "id": "1a87c881",
   "metadata": {},
   "outputs": [
    {
     "name": "stdout",
     "output_type": "stream",
     "text": [
      "0\n",
      "1\n",
      "1\n",
      "2\n",
      "3\n",
      "5\n",
      "8\n",
      "13\n",
      "21\n",
      "34\n",
      "55\n",
      "89\n",
      "144\n",
      "233\n",
      "377\n",
      "610\n",
      "987\n",
      "1597\n",
      "2584\n",
      "4181\n"
     ]
    }
   ],
   "source": [
    "f0, f1 = 0, 1\n",
    "for i in range(10):\n",
    "    print(f0)\n",
    "    print(f1)\n",
    "    f0 += f1\n",
    "    f1 += f0"
   ]
  },
  {
   "cell_type": "markdown",
   "id": "ac219fe2-a1aa-48e2-b8d2-82afec5c30df",
   "metadata": {
    "tags": []
   },
   "source": [
    "## Reference"
   ]
  },
  {
   "cell_type": "markdown",
   "id": "4ce8cff3-8554-4e99-9c7f-134d2e618aa5",
   "metadata": {},
   "source": [
    "[Data structures Tutorial](https://www.tutorialspoint.com/python_data_structure/index.htm)"
   ]
  },
  {
   "cell_type": "code",
   "execution_count": null,
   "id": "17ff27ee-5213-4a72-82d1-35124e997ec8",
   "metadata": {},
   "outputs": [],
   "source": []
  }
 ],
 "metadata": {
  "kernelspec": {
   "display_name": "Python 3 (ipykernel)",
   "language": "python",
   "name": "python3"
  },
  "language_info": {
   "codemirror_mode": {
    "name": "ipython",
    "version": 3
   },
   "file_extension": ".py",
   "mimetype": "text/x-python",
   "name": "python",
   "nbconvert_exporter": "python",
   "pygments_lexer": "ipython3",
   "version": "3.10.11"
  }
 },
 "nbformat": 4,
 "nbformat_minor": 5
}
