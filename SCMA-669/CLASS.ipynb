{
 "cells": [
  {
   "attachments": {},
   "cell_type": "markdown",
   "metadata": {},
   "source": [
    "# Software Review Project"
   ]
  },
  {
   "cell_type": "code",
   "execution_count": 39,
   "metadata": {},
   "outputs": [],
   "source": [
    "## Loding the libraries\n",
    "import pandas as pd\n",
    "import numpy as np\n",
    "from statsmodels.tsa.holtwinters import ExponentialSmoothing"
   ]
  },
  {
   "attachments": {},
   "cell_type": "markdown",
   "metadata": {},
   "source": [
    "## Load dataset"
   ]
  },
  {
   "cell_type": "code",
   "execution_count": 40,
   "metadata": {},
   "outputs": [
    {
     "data": {
      "text/html": [
       "<div>\n",
       "<style scoped>\n",
       "    .dataframe tbody tr th:only-of-type {\n",
       "        vertical-align: middle;\n",
       "    }\n",
       "\n",
       "    .dataframe tbody tr th {\n",
       "        vertical-align: top;\n",
       "    }\n",
       "\n",
       "    .dataframe thead th {\n",
       "        text-align: right;\n",
       "    }\n",
       "</style>\n",
       "<table border=\"1\" class=\"dataframe\">\n",
       "  <thead>\n",
       "    <tr style=\"text-align: right;\">\n",
       "      <th></th>\n",
       "      <th>Date</th>\n",
       "      <th>Retail Sales</th>\n",
       "    </tr>\n",
       "    <tr>\n",
       "      <th>period</th>\n",
       "      <th></th>\n",
       "      <th></th>\n",
       "    </tr>\n",
       "  </thead>\n",
       "  <tbody>\n",
       "    <tr>\n",
       "      <th>1</th>\n",
       "      <td>Jan-92</td>\n",
       "      <td>19224</td>\n",
       "    </tr>\n",
       "    <tr>\n",
       "      <th>2</th>\n",
       "      <td>Feb-92</td>\n",
       "      <td>18162</td>\n",
       "    </tr>\n",
       "    <tr>\n",
       "      <th>3</th>\n",
       "      <td>Mar-92</td>\n",
       "      <td>23416</td>\n",
       "    </tr>\n",
       "    <tr>\n",
       "      <th>4</th>\n",
       "      <td>Apr-92</td>\n",
       "      <td>22381</td>\n",
       "    </tr>\n",
       "    <tr>\n",
       "      <th>5</th>\n",
       "      <td>May-92</td>\n",
       "      <td>22094</td>\n",
       "    </tr>\n",
       "  </tbody>\n",
       "</table>\n",
       "</div>"
      ],
      "text/plain": [
       "          Date  Retail Sales\n",
       "period                      \n",
       "1       Jan-92         19224\n",
       "2       Feb-92         18162\n",
       "3       Mar-92         23416\n",
       "4       Apr-92         22381\n",
       "5       May-92         22094"
      ]
     },
     "execution_count": 40,
     "metadata": {},
     "output_type": "execute_result"
    }
   ],
   "source": [
    "df = pd.read_csv(r\"C:\\Users\\AMD\\Documents\\GitHub\\Learning\\SCMA-669\\goodwilldata.csv\")\n",
    "df.head()"
   ]
  },
  {
   "attachments": {},
   "cell_type": "markdown",
   "metadata": {},
   "source": [
    "## Preprossing the data"
   ]
  },
  {
   "cell_type": "code",
   "execution_count": 41,
   "metadata": {},
   "outputs": [
    {
     "data": {
      "text/html": [
       "<div>\n",
       "<style scoped>\n",
       "    .dataframe tbody tr th:only-of-type {\n",
       "        vertical-align: middle;\n",
       "    }\n",
       "\n",
       "    .dataframe tbody tr th {\n",
       "        vertical-align: top;\n",
       "    }\n",
       "\n",
       "    .dataframe thead th {\n",
       "        text-align: right;\n",
       "    }\n",
       "</style>\n",
       "<table border=\"1\" class=\"dataframe\">\n",
       "  <thead>\n",
       "    <tr style=\"text-align: right;\">\n",
       "      <th></th>\n",
       "      <th>Date</th>\n",
       "      <th>Retail Sales</th>\n",
       "      <th>month</th>\n",
       "      <th>year</th>\n",
       "    </tr>\n",
       "    <tr>\n",
       "      <th>period</th>\n",
       "      <th></th>\n",
       "      <th></th>\n",
       "      <th></th>\n",
       "      <th></th>\n",
       "    </tr>\n",
       "  </thead>\n",
       "  <tbody>\n",
       "    <tr>\n",
       "      <th>1</th>\n",
       "      <td>Jan-92</td>\n",
       "      <td>19224</td>\n",
       "      <td>Jan</td>\n",
       "      <td>92</td>\n",
       "    </tr>\n",
       "    <tr>\n",
       "      <th>2</th>\n",
       "      <td>Feb-92</td>\n",
       "      <td>18162</td>\n",
       "      <td>Feb</td>\n",
       "      <td>92</td>\n",
       "    </tr>\n",
       "    <tr>\n",
       "      <th>3</th>\n",
       "      <td>Mar-92</td>\n",
       "      <td>23416</td>\n",
       "      <td>Mar</td>\n",
       "      <td>92</td>\n",
       "    </tr>\n",
       "    <tr>\n",
       "      <th>4</th>\n",
       "      <td>Apr-92</td>\n",
       "      <td>22381</td>\n",
       "      <td>Apr</td>\n",
       "      <td>92</td>\n",
       "    </tr>\n",
       "    <tr>\n",
       "      <th>5</th>\n",
       "      <td>May-92</td>\n",
       "      <td>22094</td>\n",
       "      <td>May</td>\n",
       "      <td>92</td>\n",
       "    </tr>\n",
       "  </tbody>\n",
       "</table>\n",
       "</div>"
      ],
      "text/plain": [
       "          Date  Retail Sales month year\n",
       "period                                 \n",
       "1       Jan-92         19224   Jan   92\n",
       "2       Feb-92         18162   Feb   92\n",
       "3       Mar-92         23416   Mar   92\n",
       "4       Apr-92         22381   Apr   92\n",
       "5       May-92         22094   May   92"
      ]
     },
     "execution_count": 41,
     "metadata": {},
     "output_type": "execute_result"
    }
   ],
   "source": [
    "df[['month','year']] = df['Date'].str.split('-',expand=True)\n",
    "df.head()"
   ]
  },
  {
   "cell_type": "code",
   "execution_count": 42,
   "metadata": {},
   "outputs": [
    {
     "data": {
      "text/html": [
       "<div>\n",
       "<style scoped>\n",
       "    .dataframe tbody tr th:only-of-type {\n",
       "        vertical-align: middle;\n",
       "    }\n",
       "\n",
       "    .dataframe tbody tr th {\n",
       "        vertical-align: top;\n",
       "    }\n",
       "\n",
       "    .dataframe thead th {\n",
       "        text-align: right;\n",
       "    }\n",
       "</style>\n",
       "<table border=\"1\" class=\"dataframe\">\n",
       "  <thead>\n",
       "    <tr style=\"text-align: right;\">\n",
       "      <th>year</th>\n",
       "      <th>92</th>\n",
       "      <th>93</th>\n",
       "      <th>94</th>\n",
       "      <th>95</th>\n",
       "      <th>96</th>\n",
       "    </tr>\n",
       "    <tr>\n",
       "      <th>month</th>\n",
       "      <th></th>\n",
       "      <th></th>\n",
       "      <th></th>\n",
       "      <th></th>\n",
       "      <th></th>\n",
       "    </tr>\n",
       "  </thead>\n",
       "  <tbody>\n",
       "    <tr>\n",
       "      <th>Apr</th>\n",
       "      <td>22381.0</td>\n",
       "      <td>26315.0</td>\n",
       "      <td>41059.0</td>\n",
       "      <td>37026.0</td>\n",
       "      <td>46431.0</td>\n",
       "    </tr>\n",
       "    <tr>\n",
       "      <th>Aug</th>\n",
       "      <td>21456.0</td>\n",
       "      <td>26982.0</td>\n",
       "      <td>40778.0</td>\n",
       "      <td>37831.0</td>\n",
       "      <td>51141.0</td>\n",
       "    </tr>\n",
       "    <tr>\n",
       "      <th>Dec</th>\n",
       "      <td>25162.0</td>\n",
       "      <td>20439.0</td>\n",
       "      <td>38686.0</td>\n",
       "      <td>43244.0</td>\n",
       "      <td>NaN</td>\n",
       "    </tr>\n",
       "    <tr>\n",
       "      <th>Feb</th>\n",
       "      <td>18162.0</td>\n",
       "      <td>22874.0</td>\n",
       "      <td>28538.0</td>\n",
       "      <td>33194.0</td>\n",
       "      <td>39871.0</td>\n",
       "    </tr>\n",
       "    <tr>\n",
       "      <th>Jan</th>\n",
       "      <td>19224.0</td>\n",
       "      <td>26348.0</td>\n",
       "      <td>27841.0</td>\n",
       "      <td>35728.0</td>\n",
       "      <td>40796.0</td>\n",
       "    </tr>\n",
       "    <tr>\n",
       "      <th>Jul</th>\n",
       "      <td>19835.0</td>\n",
       "      <td>23479.0</td>\n",
       "      <td>38627.0</td>\n",
       "      <td>31031.0</td>\n",
       "      <td>47909.0</td>\n",
       "    </tr>\n",
       "    <tr>\n",
       "      <th>Jun</th>\n",
       "      <td>19589.0</td>\n",
       "      <td>21454.0</td>\n",
       "      <td>33751.0</td>\n",
       "      <td>33518.0</td>\n",
       "      <td>52344.0</td>\n",
       "    </tr>\n",
       "    <tr>\n",
       "      <th>Mar</th>\n",
       "      <td>23416.0</td>\n",
       "      <td>25245.0</td>\n",
       "      <td>34314.0</td>\n",
       "      <td>38872.0</td>\n",
       "      <td>47182.0</td>\n",
       "    </tr>\n",
       "    <tr>\n",
       "      <th>May</th>\n",
       "      <td>22094.0</td>\n",
       "      <td>25829.0</td>\n",
       "      <td>35321.0</td>\n",
       "      <td>35480.0</td>\n",
       "      <td>52404.0</td>\n",
       "    </tr>\n",
       "    <tr>\n",
       "      <th>Nov</th>\n",
       "      <td>25930.0</td>\n",
       "      <td>22705.0</td>\n",
       "      <td>36919.0</td>\n",
       "      <td>50474.0</td>\n",
       "      <td>NaN</td>\n",
       "    </tr>\n",
       "    <tr>\n",
       "      <th>Oct</th>\n",
       "      <td>28091.0</td>\n",
       "      <td>30386.0</td>\n",
       "      <td>43267.0</td>\n",
       "      <td>54791.0</td>\n",
       "      <td>63478.0</td>\n",
       "    </tr>\n",
       "    <tr>\n",
       "      <th>Sep</th>\n",
       "      <td>20594.0</td>\n",
       "      <td>29193.0</td>\n",
       "      <td>37995.0</td>\n",
       "      <td>45579.0</td>\n",
       "      <td>51889.0</td>\n",
       "    </tr>\n",
       "  </tbody>\n",
       "</table>\n",
       "</div>"
      ],
      "text/plain": [
       "year        92       93       94       95       96\n",
       "month                                             \n",
       "Apr    22381.0  26315.0  41059.0  37026.0  46431.0\n",
       "Aug    21456.0  26982.0  40778.0  37831.0  51141.0\n",
       "Dec    25162.0  20439.0  38686.0  43244.0      NaN\n",
       "Feb    18162.0  22874.0  28538.0  33194.0  39871.0\n",
       "Jan    19224.0  26348.0  27841.0  35728.0  40796.0\n",
       "Jul    19835.0  23479.0  38627.0  31031.0  47909.0\n",
       "Jun    19589.0  21454.0  33751.0  33518.0  52344.0\n",
       "Mar    23416.0  25245.0  34314.0  38872.0  47182.0\n",
       "May    22094.0  25829.0  35321.0  35480.0  52404.0\n",
       "Nov    25930.0  22705.0  36919.0  50474.0      NaN\n",
       "Oct    28091.0  30386.0  43267.0  54791.0  63478.0\n",
       "Sep    20594.0  29193.0  37995.0  45579.0  51889.0"
      ]
     },
     "execution_count": 42,
     "metadata": {},
     "output_type": "execute_result"
    }
   ],
   "source": [
    "pivot_table = pd.pivot_table(df, values='Retail Sales', index=['month'], columns=['year'], aggfunc=np.sum)\n",
    "pivot_table"
   ]
  },
  {
   "cell_type": "code",
   "execution_count": 43,
   "metadata": {},
   "outputs": [
    {
     "data": {
      "text/plain": [
       "month\n",
       "Apr    34642.40\n",
       "Aug    35637.60\n",
       "Dec    31882.75\n",
       "Feb    28527.80\n",
       "Jan    29987.40\n",
       "Jul    32176.20\n",
       "Jun    32131.20\n",
       "Mar    33805.80\n",
       "May    34225.60\n",
       "Nov    34007.00\n",
       "Oct    44002.60\n",
       "Sep    37050.00\n",
       "dtype: float64"
      ]
     },
     "execution_count": 43,
     "metadata": {},
     "output_type": "execute_result"
    }
   ],
   "source": [
    "pivot_table.mean(axis=1)"
   ]
  },
  {
   "cell_type": "code",
   "execution_count": 44,
   "metadata": {},
   "outputs": [
    {
     "data": {
      "text/plain": [
       "408076.35"
      ]
     },
     "execution_count": 44,
     "metadata": {},
     "output_type": "execute_result"
    }
   ],
   "source": [
    "pivot_table.mean(axis=1).sum()"
   ]
  },
  {
   "cell_type": "code",
   "execution_count": 45,
   "metadata": {},
   "outputs": [
    {
     "data": {
      "text/plain": [
       "2.9406261842912488e-05"
      ]
     },
     "execution_count": 45,
     "metadata": {},
     "output_type": "execute_result"
    }
   ],
   "source": [
    "adj_factor = 12 / pivot_table.mean(axis=1).sum()\n",
    "adj_factor"
   ]
  },
  {
   "cell_type": "code",
   "execution_count": 46,
   "metadata": {},
   "outputs": [
    {
     "data": {
      "text/plain": [
       "month\n",
       "Apr    1.018703\n",
       "Aug    1.047969\n",
       "Dec    0.937552\n",
       "Feb    0.838896\n",
       "Jan    0.881817\n",
       "Jul    0.946182\n",
       "Jun    0.944858\n",
       "Mar    0.994102\n",
       "May    1.006447\n",
       "Nov    1.000019\n",
       "Oct    1.293952\n",
       "Sep    1.089502\n",
       "dtype: float64"
      ]
     },
     "execution_count": 46,
     "metadata": {},
     "output_type": "execute_result"
    }
   ],
   "source": [
    "seasonl_adj = pivot_table.mean(axis=1) * adj_factor\n",
    "seasonl_adj"
   ]
  },
  {
   "cell_type": "code",
   "execution_count": 47,
   "metadata": {},
   "outputs": [
    {
     "data": {
      "text/plain": [
       "month\n",
       "Jan    0.881817\n",
       "Feb    0.838896\n",
       "Mar    0.994102\n",
       "Apr    1.018703\n",
       "May    1.006447\n",
       "Jun    0.944858\n",
       "Jul    0.946182\n",
       "Aug    1.047969\n",
       "Sep    1.089502\n",
       "Oct    1.293952\n",
       "Nov    1.000019\n",
       "Dec    0.937552\n",
       "dtype: float64"
      ]
     },
     "execution_count": 47,
     "metadata": {},
     "output_type": "execute_result"
    }
   ],
   "source": [
    "seasonl_adj = seasonl_adj.reindex(['Jan','Feb','Mar','Apr', 'May','Jun','Jul','Aug','Sep','Oct','Nov','Dec'])\n",
    "seasonl_adj"
   ]
  },
  {
   "cell_type": "code",
   "execution_count": 48,
   "metadata": {},
   "outputs": [
    {
     "data": {
      "text/plain": [
       "12.000000000000002"
      ]
     },
     "execution_count": 48,
     "metadata": {},
     "output_type": "execute_result"
    }
   ],
   "source": [
    "seasonl_adj.sum()"
   ]
  },
  {
   "cell_type": "code",
   "execution_count": 49,
   "metadata": {},
   "outputs": [
    {
     "data": {
      "text/plain": [
       "5.0"
      ]
     },
     "execution_count": 49,
     "metadata": {},
     "output_type": "execute_result"
    }
   ],
   "source": [
    "np.ceil(len(df) / 12)"
   ]
  },
  {
   "cell_type": "code",
   "execution_count": 50,
   "metadata": {},
   "outputs": [],
   "source": [
    "season = pd.concat([seasonl_adj]*5, ignore_index=True)[:len(df)]\n",
    "season.index = df.index"
   ]
  },
  {
   "cell_type": "code",
   "execution_count": 51,
   "metadata": {},
   "outputs": [
    {
     "data": {
      "text/html": [
       "<div>\n",
       "<style scoped>\n",
       "    .dataframe tbody tr th:only-of-type {\n",
       "        vertical-align: middle;\n",
       "    }\n",
       "\n",
       "    .dataframe tbody tr th {\n",
       "        vertical-align: top;\n",
       "    }\n",
       "\n",
       "    .dataframe thead th {\n",
       "        text-align: right;\n",
       "    }\n",
       "</style>\n",
       "<table border=\"1\" class=\"dataframe\">\n",
       "  <thead>\n",
       "    <tr style=\"text-align: right;\">\n",
       "      <th></th>\n",
       "      <th>Date</th>\n",
       "      <th>Retail Sales</th>\n",
       "      <th>month</th>\n",
       "      <th>year</th>\n",
       "      <th>seasonl_adj</th>\n",
       "    </tr>\n",
       "    <tr>\n",
       "      <th>period</th>\n",
       "      <th></th>\n",
       "      <th></th>\n",
       "      <th></th>\n",
       "      <th></th>\n",
       "      <th></th>\n",
       "    </tr>\n",
       "  </thead>\n",
       "  <tbody>\n",
       "    <tr>\n",
       "      <th>1</th>\n",
       "      <td>Jan-92</td>\n",
       "      <td>19224</td>\n",
       "      <td>Jan</td>\n",
       "      <td>92</td>\n",
       "      <td>0.881817</td>\n",
       "    </tr>\n",
       "    <tr>\n",
       "      <th>2</th>\n",
       "      <td>Feb-92</td>\n",
       "      <td>18162</td>\n",
       "      <td>Feb</td>\n",
       "      <td>92</td>\n",
       "      <td>0.838896</td>\n",
       "    </tr>\n",
       "    <tr>\n",
       "      <th>3</th>\n",
       "      <td>Mar-92</td>\n",
       "      <td>23416</td>\n",
       "      <td>Mar</td>\n",
       "      <td>92</td>\n",
       "      <td>0.994102</td>\n",
       "    </tr>\n",
       "    <tr>\n",
       "      <th>4</th>\n",
       "      <td>Apr-92</td>\n",
       "      <td>22381</td>\n",
       "      <td>Apr</td>\n",
       "      <td>92</td>\n",
       "      <td>1.018703</td>\n",
       "    </tr>\n",
       "    <tr>\n",
       "      <th>5</th>\n",
       "      <td>May-92</td>\n",
       "      <td>22094</td>\n",
       "      <td>May</td>\n",
       "      <td>92</td>\n",
       "      <td>1.006447</td>\n",
       "    </tr>\n",
       "  </tbody>\n",
       "</table>\n",
       "</div>"
      ],
      "text/plain": [
       "          Date  Retail Sales month year  seasonl_adj\n",
       "period                                              \n",
       "1       Jan-92         19224   Jan   92     0.881817\n",
       "2       Feb-92         18162   Feb   92     0.838896\n",
       "3       Mar-92         23416   Mar   92     0.994102\n",
       "4       Apr-92         22381   Apr   92     1.018703\n",
       "5       May-92         22094   May   92     1.006447"
      ]
     },
     "execution_count": 51,
     "metadata": {},
     "output_type": "execute_result"
    }
   ],
   "source": [
    "df['seasonl_adj'] = season\n",
    "df.head()"
   ]
  },
  {
   "cell_type": "code",
   "execution_count": 52,
   "metadata": {},
   "outputs": [],
   "source": [
    "df['seasonl Sales'] = [i / j for i,j in zip(df['Retail Sales'], df['seasonl_adj'])]"
   ]
  },
  {
   "cell_type": "code",
   "execution_count": 53,
   "metadata": {},
   "outputs": [
    {
     "data": {
      "text/html": [
       "<div>\n",
       "<style scoped>\n",
       "    .dataframe tbody tr th:only-of-type {\n",
       "        vertical-align: middle;\n",
       "    }\n",
       "\n",
       "    .dataframe tbody tr th {\n",
       "        vertical-align: top;\n",
       "    }\n",
       "\n",
       "    .dataframe thead th {\n",
       "        text-align: right;\n",
       "    }\n",
       "</style>\n",
       "<table border=\"1\" class=\"dataframe\">\n",
       "  <thead>\n",
       "    <tr style=\"text-align: right;\">\n",
       "      <th></th>\n",
       "      <th>Date</th>\n",
       "      <th>Retail Sales</th>\n",
       "      <th>month</th>\n",
       "      <th>year</th>\n",
       "      <th>seasonl_adj</th>\n",
       "      <th>seasonl Sales</th>\n",
       "    </tr>\n",
       "    <tr>\n",
       "      <th>period</th>\n",
       "      <th></th>\n",
       "      <th></th>\n",
       "      <th></th>\n",
       "      <th></th>\n",
       "      <th></th>\n",
       "      <th></th>\n",
       "    </tr>\n",
       "  </thead>\n",
       "  <tbody>\n",
       "    <tr>\n",
       "      <th>1</th>\n",
       "      <td>Jan-92</td>\n",
       "      <td>19224</td>\n",
       "      <td>Jan</td>\n",
       "      <td>92</td>\n",
       "      <td>0.881817</td>\n",
       "      <td>21800.433272</td>\n",
       "    </tr>\n",
       "    <tr>\n",
       "      <th>2</th>\n",
       "      <td>Feb-92</td>\n",
       "      <td>18162</td>\n",
       "      <td>Feb</td>\n",
       "      <td>92</td>\n",
       "      <td>0.838896</td>\n",
       "      <td>21649.883823</td>\n",
       "    </tr>\n",
       "    <tr>\n",
       "      <th>3</th>\n",
       "      <td>Mar-92</td>\n",
       "      <td>23416</td>\n",
       "      <td>Mar</td>\n",
       "      <td>92</td>\n",
       "      <td>0.994102</td>\n",
       "      <td>23554.922064</td>\n",
       "    </tr>\n",
       "    <tr>\n",
       "      <th>4</th>\n",
       "      <td>Apr-92</td>\n",
       "      <td>22381</td>\n",
       "      <td>Apr</td>\n",
       "      <td>92</td>\n",
       "      <td>1.018703</td>\n",
       "      <td>21970.082879</td>\n",
       "    </tr>\n",
       "    <tr>\n",
       "      <th>5</th>\n",
       "      <td>May-92</td>\n",
       "      <td>22094</td>\n",
       "      <td>May</td>\n",
       "      <td>92</td>\n",
       "      <td>1.006447</td>\n",
       "      <td>21952.473385</td>\n",
       "    </tr>\n",
       "  </tbody>\n",
       "</table>\n",
       "</div>"
      ],
      "text/plain": [
       "          Date  Retail Sales month year  seasonl_adj  seasonl Sales\n",
       "period                                                             \n",
       "1       Jan-92         19224   Jan   92     0.881817   21800.433272\n",
       "2       Feb-92         18162   Feb   92     0.838896   21649.883823\n",
       "3       Mar-92         23416   Mar   92     0.994102   23554.922064\n",
       "4       Apr-92         22381   Apr   92     1.018703   21970.082879\n",
       "5       May-92         22094   May   92     1.006447   21952.473385"
      ]
     },
     "execution_count": 53,
     "metadata": {},
     "output_type": "execute_result"
    }
   ],
   "source": [
    "df.head()"
   ]
  },
  {
   "cell_type": "code",
   "execution_count": 54,
   "metadata": {},
   "outputs": [],
   "source": [
    "new_df = df[['Date', 'seasonl Sales']]\n",
    "new_df.index = pd.to_datetime(new_df['Date'])"
   ]
  },
  {
   "cell_type": "code",
   "execution_count": 55,
   "metadata": {},
   "outputs": [],
   "source": [
    "del new_df['Date']\n",
    "new_df.columns = ['sales']"
   ]
  },
  {
   "cell_type": "code",
   "execution_count": 74,
   "metadata": {},
   "outputs": [
    {
     "name": "stderr",
     "output_type": "stream",
     "text": [
      "C:\\Users\\AMD\\AppData\\Local\\Packages\\PythonSoftwareFoundation.Python.3.9_qbz5n2kfra8p0\\LocalCache\\local-packages\\Python39\\site-packages\\statsmodels\\tsa\\base\\tsa_model.py:471: ValueWarning: No frequency information was provided, so inferred frequency MS will be used.\n",
      "  self._init_dates(dates, freq)\n"
     ]
    }
   ],
   "source": [
    "model = ExponentialSmoothing(endog= new_df.sales).fit(smoothing_level =.9) # alpha"
   ]
  },
  {
   "cell_type": "code",
   "execution_count": 75,
   "metadata": {},
   "outputs": [
    {
     "data": {
      "text/plain": [
       "1996-11-01    48928.359067\n",
       "1996-12-01    48928.359067\n",
       "1997-01-01    48928.359067\n",
       "1997-02-01    48928.359067\n",
       "1997-03-01    48928.359067\n",
       "1997-04-01    48928.359067\n",
       "1997-05-01    48928.359067\n",
       "1997-06-01    48928.359067\n",
       "1997-07-01    48928.359067\n",
       "1997-08-01    48928.359067\n",
       "1997-09-01    48928.359067\n",
       "1997-10-01    48928.359067\n",
       "Freq: MS, dtype: float64"
      ]
     },
     "execution_count": 75,
     "metadata": {},
     "output_type": "execute_result"
    }
   ],
   "source": [
    "prediction = model.forecast(steps= 12)\n",
    "prediction"
   ]
  },
  {
   "cell_type": "code",
   "execution_count": 76,
   "metadata": {},
   "outputs": [
    {
     "data": {
      "text/plain": [
       "array([48929.27630193, 45872.90510823, 43145.87526617, 41045.80258436,\n",
       "       48639.78971412, 49843.48990979, 49243.79801216, 46230.37500258,\n",
       "       46295.1210088 , 51275.38380739, 53307.54512267, 63310.94696396])"
      ]
     },
     "execution_count": 76,
     "metadata": {},
     "output_type": "execute_result"
    }
   ],
   "source": [
    "prediction.values * df.iloc[10:10+12,4].values"
   ]
  },
  {
   "cell_type": "code",
   "execution_count": 77,
   "metadata": {},
   "outputs": [],
   "source": [
    "new_prediction = pd.Series(prediction.values * df.iloc[10:10+12,4].values, index=prediction.index)"
   ]
  },
  {
   "cell_type": "code",
   "execution_count": 78,
   "metadata": {},
   "outputs": [
    {
     "data": {
      "text/plain": [
       "<Axes: xlabel='Date'>"
      ]
     },
     "execution_count": 78,
     "metadata": {},
     "output_type": "execute_result"
    },
    {
     "data": {
      "image/png": "[encoded data removed]",
      "text/plain": [
       "<Figure size 640x480 with 1 Axes>"
      ]
     },
     "metadata": {},
     "output_type": "display_data"
    }
   ],
   "source": [
    "new_df.sales.plot()\n",
    "new_prediction.plot()"
   ]
  },
  {
   "cell_type": "code",
   "execution_count": 79,
   "metadata": {},
   "outputs": [
    {
     "data": {
      "text/html": [
       "<div>\n",
       "<style scoped>\n",
       "    .dataframe tbody tr th:only-of-type {\n",
       "        vertical-align: middle;\n",
       "    }\n",
       "\n",
       "    .dataframe tbody tr th {\n",
       "        vertical-align: top;\n",
       "    }\n",
       "\n",
       "    .dataframe thead th {\n",
       "        text-align: right;\n",
       "    }\n",
       "</style>\n",
       "<table border=\"1\" class=\"dataframe\">\n",
       "  <thead>\n",
       "    <tr style=\"text-align: right;\">\n",
       "      <th></th>\n",
       "      <th>forecast</th>\n",
       "    </tr>\n",
       "  </thead>\n",
       "  <tbody>\n",
       "    <tr>\n",
       "      <th>1996-11-01</th>\n",
       "      <td>48929.276302</td>\n",
       "    </tr>\n",
       "    <tr>\n",
       "      <th>1996-12-01</th>\n",
       "      <td>45872.905108</td>\n",
       "    </tr>\n",
       "    <tr>\n",
       "      <th>1997-01-01</th>\n",
       "      <td>43145.875266</td>\n",
       "    </tr>\n",
       "    <tr>\n",
       "      <th>1997-02-01</th>\n",
       "      <td>41045.802584</td>\n",
       "    </tr>\n",
       "    <tr>\n",
       "      <th>1997-03-01</th>\n",
       "      <td>48639.789714</td>\n",
       "    </tr>\n",
       "    <tr>\n",
       "      <th>1997-04-01</th>\n",
       "      <td>49843.489910</td>\n",
       "    </tr>\n",
       "    <tr>\n",
       "      <th>1997-05-01</th>\n",
       "      <td>49243.798012</td>\n",
       "    </tr>\n",
       "    <tr>\n",
       "      <th>1997-06-01</th>\n",
       "      <td>46230.375003</td>\n",
       "    </tr>\n",
       "    <tr>\n",
       "      <th>1997-07-01</th>\n",
       "      <td>46295.121009</td>\n",
       "    </tr>\n",
       "    <tr>\n",
       "      <th>1997-08-01</th>\n",
       "      <td>51275.383807</td>\n",
       "    </tr>\n",
       "    <tr>\n",
       "      <th>1997-09-01</th>\n",
       "      <td>53307.545123</td>\n",
       "    </tr>\n",
       "    <tr>\n",
       "      <th>1997-10-01</th>\n",
       "      <td>63310.946964</td>\n",
       "    </tr>\n",
       "  </tbody>\n",
       "</table>\n",
       "</div>"
      ],
      "text/plain": [
       "                forecast\n",
       "1996-11-01  48929.276302\n",
       "1996-12-01  45872.905108\n",
       "1997-01-01  43145.875266\n",
       "1997-02-01  41045.802584\n",
       "1997-03-01  48639.789714\n",
       "1997-04-01  49843.489910\n",
       "1997-05-01  49243.798012\n",
       "1997-06-01  46230.375003\n",
       "1997-07-01  46295.121009\n",
       "1997-08-01  51275.383807\n",
       "1997-09-01  53307.545123\n",
       "1997-10-01  63310.946964"
      ]
     },
     "execution_count": 79,
     "metadata": {},
     "output_type": "execute_result"
    }
   ],
   "source": [
    "# forecast\n",
    "pd.DataFrame(new_prediction, columns=['forecast'])"
   ]
  },
  {
   "cell_type": "code",
   "execution_count": null,
   "metadata": {},
   "outputs": [],
   "source": []
  }
 ],
 "metadata": {
  "kernelspec": {
   "display_name": "Python 3",
   "language": "python",
   "name": "python3"
  },
  "language_info": {
   "codemirror_mode": {
    "name": "ipython",
    "version": 3
   },
   "file_extension": ".py",
   "mimetype": "text/x-python",
   "name": "python",
   "nbconvert_exporter": "python",
   "pygments_lexer": "ipython3",
   "version": "3.9.13"
  },
  "orig_nbformat": 4,
  "vscode": {
   "interpreter": {
    "hash": "0b959586048a3022a9b03147021240c378eab34ad384995e7e60563d1beff162"
   }
  }
 },
 "nbformat": 4,
 "nbformat_minor": 2
}
