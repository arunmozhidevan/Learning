{
 "cells": [
  {
   "cell_type": "code",
   "execution_count": 10,
   "metadata": {},
   "outputs": [],
   "source": [
    "import pandas as pd\n",
    "import seaborn as sns\n",
    "import matplotlib.pyplot as plt"
   ]
  },
  {
   "cell_type": "code",
   "execution_count": 2,
   "metadata": {},
   "outputs": [],
   "source": [
    "df = pd.read_csv('kc_house_data.csv')"
   ]
  },
  {
   "cell_type": "code",
   "execution_count": 8,
   "metadata": {},
   "outputs": [
    {
     "data": {
      "text/html": [
       "<div>\n",
       "<style scoped>\n",
       "    .dataframe tbody tr th:only-of-type {\n",
       "        vertical-align: middle;\n",
       "    }\n",
       "\n",
       "    .dataframe tbody tr th {\n",
       "        vertical-align: top;\n",
       "    }\n",
       "\n",
       "    .dataframe thead th {\n",
       "        text-align: right;\n",
       "    }\n",
       "</style>\n",
       "<table border=\"1\" class=\"dataframe\">\n",
       "  <thead>\n",
       "    <tr style=\"text-align: right;\">\n",
       "      <th></th>\n",
       "      <th>count</th>\n",
       "      <th>mean</th>\n",
       "      <th>std</th>\n",
       "      <th>min</th>\n",
       "      <th>25%</th>\n",
       "      <th>50%</th>\n",
       "      <th>75%</th>\n",
       "      <th>max</th>\n",
       "    </tr>\n",
       "  </thead>\n",
       "  <tbody>\n",
       "    <tr>\n",
       "      <th>id</th>\n",
       "      <td>21613.0</td>\n",
       "      <td>4.580302e+09</td>\n",
       "      <td>2.876566e+09</td>\n",
       "      <td>1.000102e+06</td>\n",
       "      <td>2.123049e+09</td>\n",
       "      <td>3.904930e+09</td>\n",
       "      <td>7.308900e+09</td>\n",
       "      <td>9.900000e+09</td>\n",
       "    </tr>\n",
       "    <tr>\n",
       "      <th>price</th>\n",
       "      <td>21613.0</td>\n",
       "      <td>5.400881e+05</td>\n",
       "      <td>3.671272e+05</td>\n",
       "      <td>7.500000e+04</td>\n",
       "      <td>3.219500e+05</td>\n",
       "      <td>4.500000e+05</td>\n",
       "      <td>6.450000e+05</td>\n",
       "      <td>7.700000e+06</td>\n",
       "    </tr>\n",
       "    <tr>\n",
       "      <th>bedrooms</th>\n",
       "      <td>21613.0</td>\n",
       "      <td>3.370842e+00</td>\n",
       "      <td>9.300618e-01</td>\n",
       "      <td>0.000000e+00</td>\n",
       "      <td>3.000000e+00</td>\n",
       "      <td>3.000000e+00</td>\n",
       "      <td>4.000000e+00</td>\n",
       "      <td>3.300000e+01</td>\n",
       "    </tr>\n",
       "    <tr>\n",
       "      <th>bathrooms</th>\n",
       "      <td>21613.0</td>\n",
       "      <td>2.114757e+00</td>\n",
       "      <td>7.701632e-01</td>\n",
       "      <td>0.000000e+00</td>\n",
       "      <td>1.750000e+00</td>\n",
       "      <td>2.250000e+00</td>\n",
       "      <td>2.500000e+00</td>\n",
       "      <td>8.000000e+00</td>\n",
       "    </tr>\n",
       "    <tr>\n",
       "      <th>sqft_living</th>\n",
       "      <td>21613.0</td>\n",
       "      <td>2.079900e+03</td>\n",
       "      <td>9.184409e+02</td>\n",
       "      <td>2.900000e+02</td>\n",
       "      <td>1.427000e+03</td>\n",
       "      <td>1.910000e+03</td>\n",
       "      <td>2.550000e+03</td>\n",
       "      <td>1.354000e+04</td>\n",
       "    </tr>\n",
       "    <tr>\n",
       "      <th>sqft_lot</th>\n",
       "      <td>21613.0</td>\n",
       "      <td>1.510697e+04</td>\n",
       "      <td>4.142051e+04</td>\n",
       "      <td>5.200000e+02</td>\n",
       "      <td>5.040000e+03</td>\n",
       "      <td>7.618000e+03</td>\n",
       "      <td>1.068800e+04</td>\n",
       "      <td>1.651359e+06</td>\n",
       "    </tr>\n",
       "    <tr>\n",
       "      <th>floors</th>\n",
       "      <td>21613.0</td>\n",
       "      <td>1.494309e+00</td>\n",
       "      <td>5.399889e-01</td>\n",
       "      <td>1.000000e+00</td>\n",
       "      <td>1.000000e+00</td>\n",
       "      <td>1.500000e+00</td>\n",
       "      <td>2.000000e+00</td>\n",
       "      <td>3.500000e+00</td>\n",
       "    </tr>\n",
       "    <tr>\n",
       "      <th>waterfront</th>\n",
       "      <td>21613.0</td>\n",
       "      <td>7.541757e-03</td>\n",
       "      <td>8.651720e-02</td>\n",
       "      <td>0.000000e+00</td>\n",
       "      <td>0.000000e+00</td>\n",
       "      <td>0.000000e+00</td>\n",
       "      <td>0.000000e+00</td>\n",
       "      <td>1.000000e+00</td>\n",
       "    </tr>\n",
       "    <tr>\n",
       "      <th>view</th>\n",
       "      <td>21613.0</td>\n",
       "      <td>2.343034e-01</td>\n",
       "      <td>7.663176e-01</td>\n",
       "      <td>0.000000e+00</td>\n",
       "      <td>0.000000e+00</td>\n",
       "      <td>0.000000e+00</td>\n",
       "      <td>0.000000e+00</td>\n",
       "      <td>4.000000e+00</td>\n",
       "    </tr>\n",
       "    <tr>\n",
       "      <th>condition</th>\n",
       "      <td>21613.0</td>\n",
       "      <td>3.409430e+00</td>\n",
       "      <td>6.507430e-01</td>\n",
       "      <td>1.000000e+00</td>\n",
       "      <td>3.000000e+00</td>\n",
       "      <td>3.000000e+00</td>\n",
       "      <td>4.000000e+00</td>\n",
       "      <td>5.000000e+00</td>\n",
       "    </tr>\n",
       "    <tr>\n",
       "      <th>grade</th>\n",
       "      <td>21613.0</td>\n",
       "      <td>7.656873e+00</td>\n",
       "      <td>1.175459e+00</td>\n",
       "      <td>1.000000e+00</td>\n",
       "      <td>7.000000e+00</td>\n",
       "      <td>7.000000e+00</td>\n",
       "      <td>8.000000e+00</td>\n",
       "      <td>1.300000e+01</td>\n",
       "    </tr>\n",
       "    <tr>\n",
       "      <th>sqft_above</th>\n",
       "      <td>21613.0</td>\n",
       "      <td>1.788391e+03</td>\n",
       "      <td>8.280910e+02</td>\n",
       "      <td>2.900000e+02</td>\n",
       "      <td>1.190000e+03</td>\n",
       "      <td>1.560000e+03</td>\n",
       "      <td>2.210000e+03</td>\n",
       "      <td>9.410000e+03</td>\n",
       "    </tr>\n",
       "    <tr>\n",
       "      <th>sqft_basement</th>\n",
       "      <td>21613.0</td>\n",
       "      <td>2.915090e+02</td>\n",
       "      <td>4.425750e+02</td>\n",
       "      <td>0.000000e+00</td>\n",
       "      <td>0.000000e+00</td>\n",
       "      <td>0.000000e+00</td>\n",
       "      <td>5.600000e+02</td>\n",
       "      <td>4.820000e+03</td>\n",
       "    </tr>\n",
       "    <tr>\n",
       "      <th>yr_built</th>\n",
       "      <td>21613.0</td>\n",
       "      <td>1.971005e+03</td>\n",
       "      <td>2.937341e+01</td>\n",
       "      <td>1.900000e+03</td>\n",
       "      <td>1.951000e+03</td>\n",
       "      <td>1.975000e+03</td>\n",
       "      <td>1.997000e+03</td>\n",
       "      <td>2.015000e+03</td>\n",
       "    </tr>\n",
       "    <tr>\n",
       "      <th>yr_renovated</th>\n",
       "      <td>21613.0</td>\n",
       "      <td>8.440226e+01</td>\n",
       "      <td>4.016792e+02</td>\n",
       "      <td>0.000000e+00</td>\n",
       "      <td>0.000000e+00</td>\n",
       "      <td>0.000000e+00</td>\n",
       "      <td>0.000000e+00</td>\n",
       "      <td>2.015000e+03</td>\n",
       "    </tr>\n",
       "    <tr>\n",
       "      <th>zipcode</th>\n",
       "      <td>21613.0</td>\n",
       "      <td>9.807794e+04</td>\n",
       "      <td>5.350503e+01</td>\n",
       "      <td>9.800100e+04</td>\n",
       "      <td>9.803300e+04</td>\n",
       "      <td>9.806500e+04</td>\n",
       "      <td>9.811800e+04</td>\n",
       "      <td>9.819900e+04</td>\n",
       "    </tr>\n",
       "    <tr>\n",
       "      <th>lat</th>\n",
       "      <td>21613.0</td>\n",
       "      <td>4.756005e+01</td>\n",
       "      <td>1.385637e-01</td>\n",
       "      <td>4.715590e+01</td>\n",
       "      <td>4.747100e+01</td>\n",
       "      <td>4.757180e+01</td>\n",
       "      <td>4.767800e+01</td>\n",
       "      <td>4.777760e+01</td>\n",
       "    </tr>\n",
       "    <tr>\n",
       "      <th>long</th>\n",
       "      <td>21613.0</td>\n",
       "      <td>-1.222139e+02</td>\n",
       "      <td>1.408283e-01</td>\n",
       "      <td>-1.225190e+02</td>\n",
       "      <td>-1.223280e+02</td>\n",
       "      <td>-1.222300e+02</td>\n",
       "      <td>-1.221250e+02</td>\n",
       "      <td>-1.213150e+02</td>\n",
       "    </tr>\n",
       "    <tr>\n",
       "      <th>sqft_living15</th>\n",
       "      <td>21613.0</td>\n",
       "      <td>1.986552e+03</td>\n",
       "      <td>6.853913e+02</td>\n",
       "      <td>3.990000e+02</td>\n",
       "      <td>1.490000e+03</td>\n",
       "      <td>1.840000e+03</td>\n",
       "      <td>2.360000e+03</td>\n",
       "      <td>6.210000e+03</td>\n",
       "    </tr>\n",
       "    <tr>\n",
       "      <th>sqft_lot15</th>\n",
       "      <td>21613.0</td>\n",
       "      <td>1.276846e+04</td>\n",
       "      <td>2.730418e+04</td>\n",
       "      <td>6.510000e+02</td>\n",
       "      <td>5.100000e+03</td>\n",
       "      <td>7.620000e+03</td>\n",
       "      <td>1.008300e+04</td>\n",
       "      <td>8.712000e+05</td>\n",
       "    </tr>\n",
       "  </tbody>\n",
       "</table>\n",
       "</div>"
      ],
      "text/plain": [
       "                 count          mean           std           min  \\\n",
       "id             21613.0  4.580302e+09  2.876566e+09  1.000102e+06   \n",
       "price          21613.0  5.400881e+05  3.671272e+05  7.500000e+04   \n",
       "bedrooms       21613.0  3.370842e+00  9.300618e-01  0.000000e+00   \n",
       "bathrooms      21613.0  2.114757e+00  7.701632e-01  0.000000e+00   \n",
       "sqft_living    21613.0  2.079900e+03  9.184409e+02  2.900000e+02   \n",
       "sqft_lot       21613.0  1.510697e+04  4.142051e+04  5.200000e+02   \n",
       "floors         21613.0  1.494309e+00  5.399889e-01  1.000000e+00   \n",
       "waterfront     21613.0  7.541757e-03  8.651720e-02  0.000000e+00   \n",
       "view           21613.0  2.343034e-01  7.663176e-01  0.000000e+00   \n",
       "condition      21613.0  3.409430e+00  6.507430e-01  1.000000e+00   \n",
       "grade          21613.0  7.656873e+00  1.175459e+00  1.000000e+00   \n",
       "sqft_above     21613.0  1.788391e+03  8.280910e+02  2.900000e+02   \n",
       "sqft_basement  21613.0  2.915090e+02  4.425750e+02  0.000000e+00   \n",
       "yr_built       21613.0  1.971005e+03  2.937341e+01  1.900000e+03   \n",
       "yr_renovated   21613.0  8.440226e+01  4.016792e+02  0.000000e+00   \n",
       "zipcode        21613.0  9.807794e+04  5.350503e+01  9.800100e+04   \n",
       "lat            21613.0  4.756005e+01  1.385637e-01  4.715590e+01   \n",
       "long           21613.0 -1.222139e+02  1.408283e-01 -1.225190e+02   \n",
       "sqft_living15  21613.0  1.986552e+03  6.853913e+02  3.990000e+02   \n",
       "sqft_lot15     21613.0  1.276846e+04  2.730418e+04  6.510000e+02   \n",
       "\n",
       "                        25%           50%           75%           max  \n",
       "id             2.123049e+09  3.904930e+09  7.308900e+09  9.900000e+09  \n",
       "price          3.219500e+05  4.500000e+05  6.450000e+05  7.700000e+06  \n",
       "bedrooms       3.000000e+00  3.000000e+00  4.000000e+00  3.300000e+01  \n",
       "bathrooms      1.750000e+00  2.250000e+00  2.500000e+00  8.000000e+00  \n",
       "sqft_living    1.427000e+03  1.910000e+03  2.550000e+03  1.354000e+04  \n",
       "sqft_lot       5.040000e+03  7.618000e+03  1.068800e+04  1.651359e+06  \n",
       "floors         1.000000e+00  1.500000e+00  2.000000e+00  3.500000e+00  \n",
       "waterfront     0.000000e+00  0.000000e+00  0.000000e+00  1.000000e+00  \n",
       "view           0.000000e+00  0.000000e+00  0.000000e+00  4.000000e+00  \n",
       "condition      3.000000e+00  3.000000e+00  4.000000e+00  5.000000e+00  \n",
       "grade          7.000000e+00  7.000000e+00  8.000000e+00  1.300000e+01  \n",
       "sqft_above     1.190000e+03  1.560000e+03  2.210000e+03  9.410000e+03  \n",
       "sqft_basement  0.000000e+00  0.000000e+00  5.600000e+02  4.820000e+03  \n",
       "yr_built       1.951000e+03  1.975000e+03  1.997000e+03  2.015000e+03  \n",
       "yr_renovated   0.000000e+00  0.000000e+00  0.000000e+00  2.015000e+03  \n",
       "zipcode        9.803300e+04  9.806500e+04  9.811800e+04  9.819900e+04  \n",
       "lat            4.747100e+01  4.757180e+01  4.767800e+01  4.777760e+01  \n",
       "long          -1.223280e+02 -1.222300e+02 -1.221250e+02 -1.213150e+02  \n",
       "sqft_living15  1.490000e+03  1.840000e+03  2.360000e+03  6.210000e+03  \n",
       "sqft_lot15     5.100000e+03  7.620000e+03  1.008300e+04  8.712000e+05  "
      ]
     },
     "execution_count": 8,
     "metadata": {},
     "output_type": "execute_result"
    }
   ],
   "source": [
    "df.describe().transpose()"
   ]
  },
  {
   "cell_type": "code",
   "execution_count": 7,
   "metadata": {},
   "outputs": [],
   "source": [
    "#df.isnull().sum()"
   ]
  },
  {
   "cell_type": "code",
   "execution_count": 16,
   "metadata": {},
   "outputs": [
    {
     "name": "stderr",
     "output_type": "stream",
     "text": [
      "C:\\Users\\AMD\\anaconda3\\lib\\site-packages\\seaborn\\distributions.py:2551: FutureWarning: `distplot` is a deprecated function and will be removed in a future version. Please adapt your code to use either `displot` (a figure-level function with similar flexibility) or `histplot` (an axes-level function for histograms).\n",
      "  warnings.warn(msg, FutureWarning)\n"
     ]
    },
    {
     "data": {
      "text/plain": [
       "<AxesSubplot:xlabel='price', ylabel='Density'>"
      ]
     },
     "execution_count": 16,
     "metadata": {},
     "output_type": "execute_result"
    },
    {
     "data": {
      "image/png": "[encoded data removed]",
      "text/plain": [
       "<Figure size 1080x720 with 1 Axes>"
      ]
     },
     "metadata": {
      "needs_background": "light"
     },
     "output_type": "display_data"
    }
   ],
   "source": [
    "plt.figure(figsize=(15,10))\n",
    "sns.distplot(df['price'])"
   ]
  },
  {
   "cell_type": "code",
   "execution_count": 17,
   "metadata": {},
   "outputs": [
    {
     "name": "stderr",
     "output_type": "stream",
     "text": [
      "C:\\Users\\AMD\\anaconda3\\lib\\site-packages\\seaborn\\_decorators.py:36: FutureWarning: Pass the following variable as a keyword arg: x. From version 0.12, the only valid positional argument will be `data`, and passing other arguments without an explicit keyword will result in an error or misinterpretation.\n",
      "  warnings.warn(\n"
     ]
    },
    {
     "data": {
      "text/plain": [
       "<AxesSubplot:xlabel='bedrooms', ylabel='count'>"
      ]
     },
     "execution_count": 17,
     "metadata": {},
     "output_type": "execute_result"
    },
    {
     "data": {
      "image/png": "[encoded data removed]",
      "text/plain": [
       "<Figure size 432x288 with 1 Axes>"
      ]
     },
     "metadata": {
      "needs_background": "light"
     },
     "output_type": "display_data"
    }
   ],
   "source": [
    "sns.countplot(df['bedrooms'])"
   ]
  },
  {
   "cell_type": "code",
   "execution_count": 21,
   "metadata": {},
   "outputs": [
    {
     "data": {
      "text/plain": [
       "zipcode         -0.053203\n",
       "id              -0.016762\n",
       "long             0.021626\n",
       "condition        0.036362\n",
       "yr_built         0.054012\n",
       "sqft_lot15       0.082447\n",
       "sqft_lot         0.089661\n",
       "yr_renovated     0.126434\n",
       "floors           0.256794\n",
       "waterfront       0.266369\n",
       "lat              0.307003\n",
       "bedrooms         0.308350\n",
       "sqft_basement    0.323816\n",
       "view             0.397293\n",
       "bathrooms        0.525138\n",
       "sqft_living15    0.585379\n",
       "sqft_above       0.605567\n",
       "grade            0.667434\n",
       "sqft_living      0.702035\n",
       "price            1.000000\n",
       "Name: price, dtype: float64"
      ]
     },
     "execution_count": 21,
     "metadata": {},
     "output_type": "execute_result"
    }
   ],
   "source": [
    "df.corr().price.sort_values()"
   ]
  },
  {
   "cell_type": "code",
   "execution_count": 24,
   "metadata": {},
   "outputs": [
    {
     "data": {
      "text/plain": [
       "<AxesSubplot:xlabel='sqft_living', ylabel='price'>"
      ]
     },
     "execution_count": 24,
     "metadata": {},
     "output_type": "execute_result"
    },
    {
     "data": {
      "image/png": "[encoded data removed]",
      "text/plain": [
       "<Figure size 720x360 with 1 Axes>"
      ]
     },
     "metadata": {
      "needs_background": "light"
     },
     "output_type": "display_data"
    }
   ],
   "source": [
    "plt.figure(figsize=(10,5))\n",
    "sns.scatterplot(y='price',x='sqft_living',data=df)"
   ]
  },
  {
   "cell_type": "code",
   "execution_count": 26,
   "metadata": {},
   "outputs": [
    {
     "data": {
      "text/plain": [
       "216.13"
      ]
     },
     "execution_count": 26,
     "metadata": {},
     "output_type": "execute_result"
    }
   ],
   "source": [
    "len(df)*0.01"
   ]
  },
  {
   "cell_type": "code",
   "execution_count": 28,
   "metadata": {},
   "outputs": [],
   "source": [
    "non_top_1 = df.sort_values('price',ascending=False).iloc[217:]"
   ]
  },
  {
   "cell_type": "code",
   "execution_count": 29,
   "metadata": {},
   "outputs": [
    {
     "data": {
      "text/html": [
       "<div>\n",
       "<style scoped>\n",
       "    .dataframe tbody tr th:only-of-type {\n",
       "        vertical-align: middle;\n",
       "    }\n",
       "\n",
       "    .dataframe tbody tr th {\n",
       "        vertical-align: top;\n",
       "    }\n",
       "\n",
       "    .dataframe thead th {\n",
       "        text-align: right;\n",
       "    }\n",
       "</style>\n",
       "<table border=\"1\" class=\"dataframe\">\n",
       "  <thead>\n",
       "    <tr style=\"text-align: right;\">\n",
       "      <th></th>\n",
       "      <th>id</th>\n",
       "      <th>date</th>\n",
       "      <th>price</th>\n",
       "      <th>bedrooms</th>\n",
       "      <th>bathrooms</th>\n",
       "      <th>sqft_living</th>\n",
       "      <th>sqft_lot</th>\n",
       "      <th>floors</th>\n",
       "      <th>waterfront</th>\n",
       "      <th>view</th>\n",
       "      <th>...</th>\n",
       "      <th>grade</th>\n",
       "      <th>sqft_above</th>\n",
       "      <th>sqft_basement</th>\n",
       "      <th>yr_built</th>\n",
       "      <th>yr_renovated</th>\n",
       "      <th>zipcode</th>\n",
       "      <th>lat</th>\n",
       "      <th>long</th>\n",
       "      <th>sqft_living15</th>\n",
       "      <th>sqft_lot15</th>\n",
       "    </tr>\n",
       "  </thead>\n",
       "  <tbody>\n",
       "    <tr>\n",
       "      <th>12577</th>\n",
       "      <td>2806300065</td>\n",
       "      <td>20150422T000000</td>\n",
       "      <td>1960000.0</td>\n",
       "      <td>4</td>\n",
       "      <td>4.00</td>\n",
       "      <td>4430</td>\n",
       "      <td>31353</td>\n",
       "      <td>2.0</td>\n",
       "      <td>0</td>\n",
       "      <td>0</td>\n",
       "      <td>...</td>\n",
       "      <td>12</td>\n",
       "      <td>4430</td>\n",
       "      <td>0</td>\n",
       "      <td>1998</td>\n",
       "      <td>0</td>\n",
       "      <td>98005</td>\n",
       "      <td>47.6422</td>\n",
       "      <td>-122.157</td>\n",
       "      <td>3900</td>\n",
       "      <td>35237</td>\n",
       "    </tr>\n",
       "    <tr>\n",
       "      <th>12283</th>\n",
       "      <td>1923000260</td>\n",
       "      <td>20141015T000000</td>\n",
       "      <td>1959000.0</td>\n",
       "      <td>5</td>\n",
       "      <td>4.50</td>\n",
       "      <td>6200</td>\n",
       "      <td>23373</td>\n",
       "      <td>3.0</td>\n",
       "      <td>0</td>\n",
       "      <td>1</td>\n",
       "      <td>...</td>\n",
       "      <td>11</td>\n",
       "      <td>5050</td>\n",
       "      <td>1150</td>\n",
       "      <td>1988</td>\n",
       "      <td>0</td>\n",
       "      <td>98040</td>\n",
       "      <td>47.5632</td>\n",
       "      <td>-122.215</td>\n",
       "      <td>3700</td>\n",
       "      <td>14486</td>\n",
       "    </tr>\n",
       "    <tr>\n",
       "      <th>1152</th>\n",
       "      <td>4055701200</td>\n",
       "      <td>20150421T000000</td>\n",
       "      <td>1955000.0</td>\n",
       "      <td>4</td>\n",
       "      <td>2.75</td>\n",
       "      <td>3120</td>\n",
       "      <td>7898</td>\n",
       "      <td>1.0</td>\n",
       "      <td>1</td>\n",
       "      <td>4</td>\n",
       "      <td>...</td>\n",
       "      <td>8</td>\n",
       "      <td>1560</td>\n",
       "      <td>1560</td>\n",
       "      <td>1963</td>\n",
       "      <td>0</td>\n",
       "      <td>98034</td>\n",
       "      <td>47.7165</td>\n",
       "      <td>-122.259</td>\n",
       "      <td>2630</td>\n",
       "      <td>13868</td>\n",
       "    </tr>\n",
       "    <tr>\n",
       "      <th>9175</th>\n",
       "      <td>3124059023</td>\n",
       "      <td>20150213T000000</td>\n",
       "      <td>1955000.0</td>\n",
       "      <td>3</td>\n",
       "      <td>1.75</td>\n",
       "      <td>3330</td>\n",
       "      <td>12566</td>\n",
       "      <td>1.0</td>\n",
       "      <td>1</td>\n",
       "      <td>4</td>\n",
       "      <td>...</td>\n",
       "      <td>8</td>\n",
       "      <td>1940</td>\n",
       "      <td>1390</td>\n",
       "      <td>1960</td>\n",
       "      <td>0</td>\n",
       "      <td>98040</td>\n",
       "      <td>47.5287</td>\n",
       "      <td>-122.220</td>\n",
       "      <td>3730</td>\n",
       "      <td>16560</td>\n",
       "    </tr>\n",
       "    <tr>\n",
       "      <th>19351</th>\n",
       "      <td>2525049113</td>\n",
       "      <td>20140725T000000</td>\n",
       "      <td>1950000.0</td>\n",
       "      <td>4</td>\n",
       "      <td>3.50</td>\n",
       "      <td>4065</td>\n",
       "      <td>18713</td>\n",
       "      <td>2.0</td>\n",
       "      <td>0</td>\n",
       "      <td>0</td>\n",
       "      <td>...</td>\n",
       "      <td>10</td>\n",
       "      <td>4065</td>\n",
       "      <td>0</td>\n",
       "      <td>1987</td>\n",
       "      <td>0</td>\n",
       "      <td>98039</td>\n",
       "      <td>47.6209</td>\n",
       "      <td>-122.237</td>\n",
       "      <td>3070</td>\n",
       "      <td>18713</td>\n",
       "    </tr>\n",
       "    <tr>\n",
       "      <th>...</th>\n",
       "      <td>...</td>\n",
       "      <td>...</td>\n",
       "      <td>...</td>\n",
       "      <td>...</td>\n",
       "      <td>...</td>\n",
       "      <td>...</td>\n",
       "      <td>...</td>\n",
       "      <td>...</td>\n",
       "      <td>...</td>\n",
       "      <td>...</td>\n",
       "      <td>...</td>\n",
       "      <td>...</td>\n",
       "      <td>...</td>\n",
       "      <td>...</td>\n",
       "      <td>...</td>\n",
       "      <td>...</td>\n",
       "      <td>...</td>\n",
       "      <td>...</td>\n",
       "      <td>...</td>\n",
       "      <td>...</td>\n",
       "      <td>...</td>\n",
       "    </tr>\n",
       "    <tr>\n",
       "      <th>8274</th>\n",
       "      <td>3883800011</td>\n",
       "      <td>20141105T000000</td>\n",
       "      <td>82000.0</td>\n",
       "      <td>3</td>\n",
       "      <td>1.00</td>\n",
       "      <td>860</td>\n",
       "      <td>10426</td>\n",
       "      <td>1.0</td>\n",
       "      <td>0</td>\n",
       "      <td>0</td>\n",
       "      <td>...</td>\n",
       "      <td>6</td>\n",
       "      <td>860</td>\n",
       "      <td>0</td>\n",
       "      <td>1954</td>\n",
       "      <td>0</td>\n",
       "      <td>98146</td>\n",
       "      <td>47.4987</td>\n",
       "      <td>-122.341</td>\n",
       "      <td>1140</td>\n",
       "      <td>11250</td>\n",
       "    </tr>\n",
       "    <tr>\n",
       "      <th>16198</th>\n",
       "      <td>3028200080</td>\n",
       "      <td>20150324T000000</td>\n",
       "      <td>81000.0</td>\n",
       "      <td>2</td>\n",
       "      <td>1.00</td>\n",
       "      <td>730</td>\n",
       "      <td>9975</td>\n",
       "      <td>1.0</td>\n",
       "      <td>0</td>\n",
       "      <td>0</td>\n",
       "      <td>...</td>\n",
       "      <td>5</td>\n",
       "      <td>730</td>\n",
       "      <td>0</td>\n",
       "      <td>1943</td>\n",
       "      <td>0</td>\n",
       "      <td>98168</td>\n",
       "      <td>47.4808</td>\n",
       "      <td>-122.315</td>\n",
       "      <td>860</td>\n",
       "      <td>9000</td>\n",
       "    </tr>\n",
       "    <tr>\n",
       "      <th>465</th>\n",
       "      <td>8658300340</td>\n",
       "      <td>20140523T000000</td>\n",
       "      <td>80000.0</td>\n",
       "      <td>1</td>\n",
       "      <td>0.75</td>\n",
       "      <td>430</td>\n",
       "      <td>5050</td>\n",
       "      <td>1.0</td>\n",
       "      <td>0</td>\n",
       "      <td>0</td>\n",
       "      <td>...</td>\n",
       "      <td>4</td>\n",
       "      <td>430</td>\n",
       "      <td>0</td>\n",
       "      <td>1912</td>\n",
       "      <td>0</td>\n",
       "      <td>98014</td>\n",
       "      <td>47.6499</td>\n",
       "      <td>-121.909</td>\n",
       "      <td>1200</td>\n",
       "      <td>7500</td>\n",
       "    </tr>\n",
       "    <tr>\n",
       "      <th>15293</th>\n",
       "      <td>40000362</td>\n",
       "      <td>20140506T000000</td>\n",
       "      <td>78000.0</td>\n",
       "      <td>2</td>\n",
       "      <td>1.00</td>\n",
       "      <td>780</td>\n",
       "      <td>16344</td>\n",
       "      <td>1.0</td>\n",
       "      <td>0</td>\n",
       "      <td>0</td>\n",
       "      <td>...</td>\n",
       "      <td>5</td>\n",
       "      <td>780</td>\n",
       "      <td>0</td>\n",
       "      <td>1942</td>\n",
       "      <td>0</td>\n",
       "      <td>98168</td>\n",
       "      <td>47.4739</td>\n",
       "      <td>-122.280</td>\n",
       "      <td>1700</td>\n",
       "      <td>10387</td>\n",
       "    </tr>\n",
       "    <tr>\n",
       "      <th>1149</th>\n",
       "      <td>3421079032</td>\n",
       "      <td>20150217T000000</td>\n",
       "      <td>75000.0</td>\n",
       "      <td>1</td>\n",
       "      <td>0.00</td>\n",
       "      <td>670</td>\n",
       "      <td>43377</td>\n",
       "      <td>1.0</td>\n",
       "      <td>0</td>\n",
       "      <td>0</td>\n",
       "      <td>...</td>\n",
       "      <td>3</td>\n",
       "      <td>670</td>\n",
       "      <td>0</td>\n",
       "      <td>1966</td>\n",
       "      <td>0</td>\n",
       "      <td>98022</td>\n",
       "      <td>47.2638</td>\n",
       "      <td>-121.906</td>\n",
       "      <td>1160</td>\n",
       "      <td>42882</td>\n",
       "    </tr>\n",
       "  </tbody>\n",
       "</table>\n",
       "<p>21396 rows × 21 columns</p>\n",
       "</div>"
      ],
      "text/plain": [
       "               id             date      price  bedrooms  bathrooms  \\\n",
       "12577  2806300065  20150422T000000  1960000.0         4       4.00   \n",
       "12283  1923000260  20141015T000000  1959000.0         5       4.50   \n",
       "1152   4055701200  20150421T000000  1955000.0         4       2.75   \n",
       "9175   3124059023  20150213T000000  1955000.0         3       1.75   \n",
       "19351  2525049113  20140725T000000  1950000.0         4       3.50   \n",
       "...           ...              ...        ...       ...        ...   \n",
       "8274   3883800011  20141105T000000    82000.0         3       1.00   \n",
       "16198  3028200080  20150324T000000    81000.0         2       1.00   \n",
       "465    8658300340  20140523T000000    80000.0         1       0.75   \n",
       "15293    40000362  20140506T000000    78000.0         2       1.00   \n",
       "1149   3421079032  20150217T000000    75000.0         1       0.00   \n",
       "\n",
       "       sqft_living  sqft_lot  floors  waterfront  view  ...  grade  \\\n",
       "12577         4430     31353     2.0           0     0  ...     12   \n",
       "12283         6200     23373     3.0           0     1  ...     11   \n",
       "1152          3120      7898     1.0           1     4  ...      8   \n",
       "9175          3330     12566     1.0           1     4  ...      8   \n",
       "19351         4065     18713     2.0           0     0  ...     10   \n",
       "...            ...       ...     ...         ...   ...  ...    ...   \n",
       "8274           860     10426     1.0           0     0  ...      6   \n",
       "16198          730      9975     1.0           0     0  ...      5   \n",
       "465            430      5050     1.0           0     0  ...      4   \n",
       "15293          780     16344     1.0           0     0  ...      5   \n",
       "1149           670     43377     1.0           0     0  ...      3   \n",
       "\n",
       "       sqft_above  sqft_basement  yr_built  yr_renovated  zipcode      lat  \\\n",
       "12577        4430              0      1998             0    98005  47.6422   \n",
       "12283        5050           1150      1988             0    98040  47.5632   \n",
       "1152         1560           1560      1963             0    98034  47.7165   \n",
       "9175         1940           1390      1960             0    98040  47.5287   \n",
       "19351        4065              0      1987             0    98039  47.6209   \n",
       "...           ...            ...       ...           ...      ...      ...   \n",
       "8274          860              0      1954             0    98146  47.4987   \n",
       "16198         730              0      1943             0    98168  47.4808   \n",
       "465           430              0      1912             0    98014  47.6499   \n",
       "15293         780              0      1942             0    98168  47.4739   \n",
       "1149          670              0      1966             0    98022  47.2638   \n",
       "\n",
       "          long  sqft_living15  sqft_lot15  \n",
       "12577 -122.157           3900       35237  \n",
       "12283 -122.215           3700       14486  \n",
       "1152  -122.259           2630       13868  \n",
       "9175  -122.220           3730       16560  \n",
       "19351 -122.237           3070       18713  \n",
       "...        ...            ...         ...  \n",
       "8274  -122.341           1140       11250  \n",
       "16198 -122.315            860        9000  \n",
       "465   -121.909           1200        7500  \n",
       "15293 -122.280           1700       10387  \n",
       "1149  -121.906           1160       42882  \n",
       "\n",
       "[21396 rows x 21 columns]"
      ]
     },
     "execution_count": 29,
     "metadata": {},
     "output_type": "execute_result"
    }
   ],
   "source": [
    "non_top_1"
   ]
  },
  {
   "cell_type": "code",
   "execution_count": 50,
   "metadata": {},
   "outputs": [
    {
     "data": {
      "text/plain": [
       "<AxesSubplot:xlabel='long', ylabel='lat'>"
      ]
     },
     "execution_count": 50,
     "metadata": {},
     "output_type": "execute_result"
    },
    {
     "data": {
      "image/png": "[encoded data removed]",
      "text/plain": [
       "<Figure size 720x432 with 1 Axes>"
      ]
     },
     "metadata": {
      "needs_background": "light"
     },
     "output_type": "display_data"
    }
   ],
   "source": [
    "plt.figure(figsize=(10,6))\n",
    "sns.scatterplot(x='long',y='lat',data=non_top_1,hue='price',alpha=0.3,edgecolor=None,palette='RdYlBu')"
   ]
  },
  {
   "cell_type": "code",
   "execution_count": 53,
   "metadata": {},
   "outputs": [
    {
     "data": {
      "text/plain": [
       "<AxesSubplot:xlabel='waterfront', ylabel='price'>"
      ]
     },
     "execution_count": 53,
     "metadata": {},
     "output_type": "execute_result"
    },
    {
     "data": {
      "image/png": "[encoded data removed]",
      "text/plain": [
       "<Figure size 432x288 with 1 Axes>"
      ]
     },
     "metadata": {
      "needs_background": "light"
     },
     "output_type": "display_data"
    }
   ],
   "source": [
    "sns.boxenplot(x='waterfront',y='price',data=df)"
   ]
  },
  {
   "cell_type": "code",
   "execution_count": 54,
   "metadata": {},
   "outputs": [
    {
     "data": {
      "text/plain": [
       "Index(['id', 'date', 'price', 'bedrooms', 'bathrooms', 'sqft_living',\n",
       "       'sqft_lot', 'floors', 'waterfront', 'view', 'condition', 'grade',\n",
       "       'sqft_above', 'sqft_basement', 'yr_built', 'yr_renovated', 'zipcode',\n",
       "       'lat', 'long', 'sqft_living15', 'sqft_lot15'],\n",
       "      dtype='object')"
      ]
     },
     "execution_count": 54,
     "metadata": {},
     "output_type": "execute_result"
    }
   ],
   "source": [
    "df.columns"
   ]
  },
  {
   "cell_type": "code",
   "execution_count": 56,
   "metadata": {},
   "outputs": [],
   "source": [
    "df['date'] = pd.to_datetime(df['date'])"
   ]
  },
  {
   "cell_type": "code",
   "execution_count": 57,
   "metadata": {},
   "outputs": [
    {
     "data": {
      "text/plain": [
       "0       2014-10-13\n",
       "1       2014-12-09\n",
       "2       2015-02-25\n",
       "3       2014-12-09\n",
       "4       2015-02-18\n",
       "           ...    \n",
       "21608   2014-05-21\n",
       "21609   2015-02-23\n",
       "21610   2014-06-23\n",
       "21611   2015-01-16\n",
       "21612   2014-10-15\n",
       "Name: date, Length: 21613, dtype: datetime64[ns]"
      ]
     },
     "execution_count": 57,
     "metadata": {},
     "output_type": "execute_result"
    }
   ],
   "source": [
    "df['date']"
   ]
  },
  {
   "cell_type": "code",
   "execution_count": 58,
   "metadata": {},
   "outputs": [],
   "source": [
    "df['year'] = df['date'].apply(lambda date: date.year)\n",
    "df['month'] = df['date'].apply(lambda date: date.month)"
   ]
  },
  {
   "cell_type": "code",
   "execution_count": 60,
   "metadata": {},
   "outputs": [],
   "source": [
    "df.drop(labels='id',axis=1,inplace=True)"
   ]
  },
  {
   "cell_type": "code",
   "execution_count": 61,
   "metadata": {},
   "outputs": [
    {
     "data": {
      "text/html": [
       "<div>\n",
       "<style scoped>\n",
       "    .dataframe tbody tr th:only-of-type {\n",
       "        vertical-align: middle;\n",
       "    }\n",
       "\n",
       "    .dataframe tbody tr th {\n",
       "        vertical-align: top;\n",
       "    }\n",
       "\n",
       "    .dataframe thead th {\n",
       "        text-align: right;\n",
       "    }\n",
       "</style>\n",
       "<table border=\"1\" class=\"dataframe\">\n",
       "  <thead>\n",
       "    <tr style=\"text-align: right;\">\n",
       "      <th></th>\n",
       "      <th>date</th>\n",
       "      <th>price</th>\n",
       "      <th>bedrooms</th>\n",
       "      <th>bathrooms</th>\n",
       "      <th>sqft_living</th>\n",
       "      <th>sqft_lot</th>\n",
       "      <th>floors</th>\n",
       "      <th>waterfront</th>\n",
       "      <th>view</th>\n",
       "      <th>condition</th>\n",
       "      <th>...</th>\n",
       "      <th>sqft_basement</th>\n",
       "      <th>yr_built</th>\n",
       "      <th>yr_renovated</th>\n",
       "      <th>zipcode</th>\n",
       "      <th>lat</th>\n",
       "      <th>long</th>\n",
       "      <th>sqft_living15</th>\n",
       "      <th>sqft_lot15</th>\n",
       "      <th>year</th>\n",
       "      <th>month</th>\n",
       "    </tr>\n",
       "  </thead>\n",
       "  <tbody>\n",
       "    <tr>\n",
       "      <th>0</th>\n",
       "      <td>2014-10-13</td>\n",
       "      <td>221900.0</td>\n",
       "      <td>3</td>\n",
       "      <td>1.00</td>\n",
       "      <td>1180</td>\n",
       "      <td>5650</td>\n",
       "      <td>1.0</td>\n",
       "      <td>0</td>\n",
       "      <td>0</td>\n",
       "      <td>3</td>\n",
       "      <td>...</td>\n",
       "      <td>0</td>\n",
       "      <td>1955</td>\n",
       "      <td>0</td>\n",
       "      <td>98178</td>\n",
       "      <td>47.5112</td>\n",
       "      <td>-122.257</td>\n",
       "      <td>1340</td>\n",
       "      <td>5650</td>\n",
       "      <td>2014</td>\n",
       "      <td>10</td>\n",
       "    </tr>\n",
       "    <tr>\n",
       "      <th>1</th>\n",
       "      <td>2014-12-09</td>\n",
       "      <td>538000.0</td>\n",
       "      <td>3</td>\n",
       "      <td>2.25</td>\n",
       "      <td>2570</td>\n",
       "      <td>7242</td>\n",
       "      <td>2.0</td>\n",
       "      <td>0</td>\n",
       "      <td>0</td>\n",
       "      <td>3</td>\n",
       "      <td>...</td>\n",
       "      <td>400</td>\n",
       "      <td>1951</td>\n",
       "      <td>1991</td>\n",
       "      <td>98125</td>\n",
       "      <td>47.7210</td>\n",
       "      <td>-122.319</td>\n",
       "      <td>1690</td>\n",
       "      <td>7639</td>\n",
       "      <td>2014</td>\n",
       "      <td>12</td>\n",
       "    </tr>\n",
       "    <tr>\n",
       "      <th>2</th>\n",
       "      <td>2015-02-25</td>\n",
       "      <td>180000.0</td>\n",
       "      <td>2</td>\n",
       "      <td>1.00</td>\n",
       "      <td>770</td>\n",
       "      <td>10000</td>\n",
       "      <td>1.0</td>\n",
       "      <td>0</td>\n",
       "      <td>0</td>\n",
       "      <td>3</td>\n",
       "      <td>...</td>\n",
       "      <td>0</td>\n",
       "      <td>1933</td>\n",
       "      <td>0</td>\n",
       "      <td>98028</td>\n",
       "      <td>47.7379</td>\n",
       "      <td>-122.233</td>\n",
       "      <td>2720</td>\n",
       "      <td>8062</td>\n",
       "      <td>2015</td>\n",
       "      <td>2</td>\n",
       "    </tr>\n",
       "    <tr>\n",
       "      <th>3</th>\n",
       "      <td>2014-12-09</td>\n",
       "      <td>604000.0</td>\n",
       "      <td>4</td>\n",
       "      <td>3.00</td>\n",
       "      <td>1960</td>\n",
       "      <td>5000</td>\n",
       "      <td>1.0</td>\n",
       "      <td>0</td>\n",
       "      <td>0</td>\n",
       "      <td>5</td>\n",
       "      <td>...</td>\n",
       "      <td>910</td>\n",
       "      <td>1965</td>\n",
       "      <td>0</td>\n",
       "      <td>98136</td>\n",
       "      <td>47.5208</td>\n",
       "      <td>-122.393</td>\n",
       "      <td>1360</td>\n",
       "      <td>5000</td>\n",
       "      <td>2014</td>\n",
       "      <td>12</td>\n",
       "    </tr>\n",
       "    <tr>\n",
       "      <th>4</th>\n",
       "      <td>2015-02-18</td>\n",
       "      <td>510000.0</td>\n",
       "      <td>3</td>\n",
       "      <td>2.00</td>\n",
       "      <td>1680</td>\n",
       "      <td>8080</td>\n",
       "      <td>1.0</td>\n",
       "      <td>0</td>\n",
       "      <td>0</td>\n",
       "      <td>3</td>\n",
       "      <td>...</td>\n",
       "      <td>0</td>\n",
       "      <td>1987</td>\n",
       "      <td>0</td>\n",
       "      <td>98074</td>\n",
       "      <td>47.6168</td>\n",
       "      <td>-122.045</td>\n",
       "      <td>1800</td>\n",
       "      <td>7503</td>\n",
       "      <td>2015</td>\n",
       "      <td>2</td>\n",
       "    </tr>\n",
       "    <tr>\n",
       "      <th>...</th>\n",
       "      <td>...</td>\n",
       "      <td>...</td>\n",
       "      <td>...</td>\n",
       "      <td>...</td>\n",
       "      <td>...</td>\n",
       "      <td>...</td>\n",
       "      <td>...</td>\n",
       "      <td>...</td>\n",
       "      <td>...</td>\n",
       "      <td>...</td>\n",
       "      <td>...</td>\n",
       "      <td>...</td>\n",
       "      <td>...</td>\n",
       "      <td>...</td>\n",
       "      <td>...</td>\n",
       "      <td>...</td>\n",
       "      <td>...</td>\n",
       "      <td>...</td>\n",
       "      <td>...</td>\n",
       "      <td>...</td>\n",
       "      <td>...</td>\n",
       "    </tr>\n",
       "    <tr>\n",
       "      <th>21608</th>\n",
       "      <td>2014-05-21</td>\n",
       "      <td>360000.0</td>\n",
       "      <td>3</td>\n",
       "      <td>2.50</td>\n",
       "      <td>1530</td>\n",
       "      <td>1131</td>\n",
       "      <td>3.0</td>\n",
       "      <td>0</td>\n",
       "      <td>0</td>\n",
       "      <td>3</td>\n",
       "      <td>...</td>\n",
       "      <td>0</td>\n",
       "      <td>2009</td>\n",
       "      <td>0</td>\n",
       "      <td>98103</td>\n",
       "      <td>47.6993</td>\n",
       "      <td>-122.346</td>\n",
       "      <td>1530</td>\n",
       "      <td>1509</td>\n",
       "      <td>2014</td>\n",
       "      <td>5</td>\n",
       "    </tr>\n",
       "    <tr>\n",
       "      <th>21609</th>\n",
       "      <td>2015-02-23</td>\n",
       "      <td>400000.0</td>\n",
       "      <td>4</td>\n",
       "      <td>2.50</td>\n",
       "      <td>2310</td>\n",
       "      <td>5813</td>\n",
       "      <td>2.0</td>\n",
       "      <td>0</td>\n",
       "      <td>0</td>\n",
       "      <td>3</td>\n",
       "      <td>...</td>\n",
       "      <td>0</td>\n",
       "      <td>2014</td>\n",
       "      <td>0</td>\n",
       "      <td>98146</td>\n",
       "      <td>47.5107</td>\n",
       "      <td>-122.362</td>\n",
       "      <td>1830</td>\n",
       "      <td>7200</td>\n",
       "      <td>2015</td>\n",
       "      <td>2</td>\n",
       "    </tr>\n",
       "    <tr>\n",
       "      <th>21610</th>\n",
       "      <td>2014-06-23</td>\n",
       "      <td>402101.0</td>\n",
       "      <td>2</td>\n",
       "      <td>0.75</td>\n",
       "      <td>1020</td>\n",
       "      <td>1350</td>\n",
       "      <td>2.0</td>\n",
       "      <td>0</td>\n",
       "      <td>0</td>\n",
       "      <td>3</td>\n",
       "      <td>...</td>\n",
       "      <td>0</td>\n",
       "      <td>2009</td>\n",
       "      <td>0</td>\n",
       "      <td>98144</td>\n",
       "      <td>47.5944</td>\n",
       "      <td>-122.299</td>\n",
       "      <td>1020</td>\n",
       "      <td>2007</td>\n",
       "      <td>2014</td>\n",
       "      <td>6</td>\n",
       "    </tr>\n",
       "    <tr>\n",
       "      <th>21611</th>\n",
       "      <td>2015-01-16</td>\n",
       "      <td>400000.0</td>\n",
       "      <td>3</td>\n",
       "      <td>2.50</td>\n",
       "      <td>1600</td>\n",
       "      <td>2388</td>\n",
       "      <td>2.0</td>\n",
       "      <td>0</td>\n",
       "      <td>0</td>\n",
       "      <td>3</td>\n",
       "      <td>...</td>\n",
       "      <td>0</td>\n",
       "      <td>2004</td>\n",
       "      <td>0</td>\n",
       "      <td>98027</td>\n",
       "      <td>47.5345</td>\n",
       "      <td>-122.069</td>\n",
       "      <td>1410</td>\n",
       "      <td>1287</td>\n",
       "      <td>2015</td>\n",
       "      <td>1</td>\n",
       "    </tr>\n",
       "    <tr>\n",
       "      <th>21612</th>\n",
       "      <td>2014-10-15</td>\n",
       "      <td>325000.0</td>\n",
       "      <td>2</td>\n",
       "      <td>0.75</td>\n",
       "      <td>1020</td>\n",
       "      <td>1076</td>\n",
       "      <td>2.0</td>\n",
       "      <td>0</td>\n",
       "      <td>0</td>\n",
       "      <td>3</td>\n",
       "      <td>...</td>\n",
       "      <td>0</td>\n",
       "      <td>2008</td>\n",
       "      <td>0</td>\n",
       "      <td>98144</td>\n",
       "      <td>47.5941</td>\n",
       "      <td>-122.299</td>\n",
       "      <td>1020</td>\n",
       "      <td>1357</td>\n",
       "      <td>2014</td>\n",
       "      <td>10</td>\n",
       "    </tr>\n",
       "  </tbody>\n",
       "</table>\n",
       "<p>21613 rows × 22 columns</p>\n",
       "</div>"
      ],
      "text/plain": [
       "            date     price  bedrooms  bathrooms  sqft_living  sqft_lot  \\\n",
       "0     2014-10-13  221900.0         3       1.00         1180      5650   \n",
       "1     2014-12-09  538000.0         3       2.25         2570      7242   \n",
       "2     2015-02-25  180000.0         2       1.00          770     10000   \n",
       "3     2014-12-09  604000.0         4       3.00         1960      5000   \n",
       "4     2015-02-18  510000.0         3       2.00         1680      8080   \n",
       "...          ...       ...       ...        ...          ...       ...   \n",
       "21608 2014-05-21  360000.0         3       2.50         1530      1131   \n",
       "21609 2015-02-23  400000.0         4       2.50         2310      5813   \n",
       "21610 2014-06-23  402101.0         2       0.75         1020      1350   \n",
       "21611 2015-01-16  400000.0         3       2.50         1600      2388   \n",
       "21612 2014-10-15  325000.0         2       0.75         1020      1076   \n",
       "\n",
       "       floors  waterfront  view  condition  ...  sqft_basement  yr_built  \\\n",
       "0         1.0           0     0          3  ...              0      1955   \n",
       "1         2.0           0     0          3  ...            400      1951   \n",
       "2         1.0           0     0          3  ...              0      1933   \n",
       "3         1.0           0     0          5  ...            910      1965   \n",
       "4         1.0           0     0          3  ...              0      1987   \n",
       "...       ...         ...   ...        ...  ...            ...       ...   \n",
       "21608     3.0           0     0          3  ...              0      2009   \n",
       "21609     2.0           0     0          3  ...              0      2014   \n",
       "21610     2.0           0     0          3  ...              0      2009   \n",
       "21611     2.0           0     0          3  ...              0      2004   \n",
       "21612     2.0           0     0          3  ...              0      2008   \n",
       "\n",
       "       yr_renovated  zipcode      lat     long  sqft_living15  sqft_lot15  \\\n",
       "0                 0    98178  47.5112 -122.257           1340        5650   \n",
       "1              1991    98125  47.7210 -122.319           1690        7639   \n",
       "2                 0    98028  47.7379 -122.233           2720        8062   \n",
       "3                 0    98136  47.5208 -122.393           1360        5000   \n",
       "4                 0    98074  47.6168 -122.045           1800        7503   \n",
       "...             ...      ...      ...      ...            ...         ...   \n",
       "21608             0    98103  47.6993 -122.346           1530        1509   \n",
       "21609             0    98146  47.5107 -122.362           1830        7200   \n",
       "21610             0    98144  47.5944 -122.299           1020        2007   \n",
       "21611             0    98027  47.5345 -122.069           1410        1287   \n",
       "21612             0    98144  47.5941 -122.299           1020        1357   \n",
       "\n",
       "       year  month  \n",
       "0      2014     10  \n",
       "1      2014     12  \n",
       "2      2015      2  \n",
       "3      2014     12  \n",
       "4      2015      2  \n",
       "...     ...    ...  \n",
       "21608  2014      5  \n",
       "21609  2015      2  \n",
       "21610  2014      6  \n",
       "21611  2015      1  \n",
       "21612  2014     10  \n",
       "\n",
       "[21613 rows x 22 columns]"
      ]
     },
     "execution_count": 61,
     "metadata": {},
     "output_type": "execute_result"
    }
   ],
   "source": [
    "df"
   ]
  },
  {
   "cell_type": "code",
   "execution_count": 65,
   "metadata": {},
   "outputs": [
    {
     "data": {
      "text/plain": [
       "<AxesSubplot:xlabel='month', ylabel='price'>"
      ]
     },
     "execution_count": 65,
     "metadata": {},
     "output_type": "execute_result"
    },
    {
     "data": {
      "image/png": "[encoded data removed]",
      "text/plain": [
       "<Figure size 720x432 with 1 Axes>"
      ]
     },
     "metadata": {
      "needs_background": "light"
     },
     "output_type": "display_data"
    }
   ],
   "source": [
    "plt.figure(figsize=(10,6))\n",
    "sns.boxplot(x='month',y='price',data=df)"
   ]
  },
  {
   "cell_type": "code",
   "execution_count": 66,
   "metadata": {},
   "outputs": [],
   "source": [
    "df.drop(labels='date',axis=1,inplace=True)"
   ]
  },
  {
   "cell_type": "code",
   "execution_count": 67,
   "metadata": {},
   "outputs": [],
   "source": [
    "df.drop(labels='zipcode',axis=1,inplace=True)"
   ]
  },
  {
   "cell_type": "code",
   "execution_count": 68,
   "metadata": {},
   "outputs": [],
   "source": [
    "X = df.drop(labels='price',axis=1).values\n",
    "y = df['price'].values"
   ]
  },
  {
   "cell_type": "code",
   "execution_count": 69,
   "metadata": {},
   "outputs": [],
   "source": [
    "from sklearn.model_selection import train_test_split"
   ]
  },
  {
   "cell_type": "code",
   "execution_count": 72,
   "metadata": {},
   "outputs": [],
   "source": [
    "X_train, X_test, y_train, y_test = train_test_split(\n",
    "    X, y, test_size=0.3, random_state=101)"
   ]
  },
  {
   "cell_type": "code",
   "execution_count": 73,
   "metadata": {},
   "outputs": [],
   "source": [
    "from sklearn.preprocessing import MinMaxScaler"
   ]
  },
  {
   "cell_type": "code",
   "execution_count": 74,
   "metadata": {},
   "outputs": [],
   "source": [
    "scaler = MinMaxScaler()"
   ]
  },
  {
   "cell_type": "code",
   "execution_count": 75,
   "metadata": {},
   "outputs": [],
   "source": [
    "X_train = scaler.fit_transform(X_train)"
   ]
  },
  {
   "cell_type": "code",
   "execution_count": 76,
   "metadata": {},
   "outputs": [],
   "source": [
    "X_test = scaler.transform(X_test)"
   ]
  },
  {
   "cell_type": "code",
   "execution_count": 77,
   "metadata": {},
   "outputs": [],
   "source": [
    "from tensorflow.keras.models import Sequential\n",
    "from tensorflow.keras.layers import Dense"
   ]
  },
  {
   "cell_type": "code",
   "execution_count": 79,
   "metadata": {},
   "outputs": [
    {
     "data": {
      "text/plain": [
       "(15129, 19)"
      ]
     },
     "execution_count": 79,
     "metadata": {},
     "output_type": "execute_result"
    }
   ],
   "source": [
    "X_train.shape"
   ]
  },
  {
   "cell_type": "code",
   "execution_count": 110,
   "metadata": {},
   "outputs": [],
   "source": [
    "model = Sequential()"
   ]
  },
  {
   "cell_type": "code",
   "execution_count": 111,
   "metadata": {},
   "outputs": [],
   "source": [
    "model.add(Dense(19,activation='relu'))\n",
    "model.add(Dense(19,activation='relu'))\n",
    "model.add(Dense(19,activation='relu'))\n",
    "model.add(Dense(19,activation='relu'))\n",
    "\n",
    "model.add(Dense(1))"
   ]
  },
  {
   "cell_type": "code",
   "execution_count": 112,
   "metadata": {},
   "outputs": [],
   "source": [
    "model.compile(optimizer='adam', loss='mse')"
   ]
  },
  {
   "cell_type": "code",
   "execution_count": 113,
   "metadata": {},
   "outputs": [
    {
     "name": "stdout",
     "output_type": "stream",
     "text": [
      "Epoch 1/150\n",
      "119/119 [==============================] - 1s 4ms/step - loss: 435967622894.9333 - val_loss: 432951001088.0000\n",
      "Epoch 2/150\n",
      "119/119 [==============================] - 0s 2ms/step - loss: 423833109299.2000 - val_loss: 426948362240.0000\n",
      "Epoch 3/150\n",
      "119/119 [==============================] - 0s 2ms/step - loss: 420966554282.6667 - val_loss: 373882159104.0000\n",
      "Epoch 4/150\n",
      "119/119 [==============================] - 0s 2ms/step - loss: 333326578756.2667 - val_loss: 215492034560.0000\n",
      "Epoch 5/150\n",
      "119/119 [==============================] - 0s 2ms/step - loss: 182141173896.5333 - val_loss: 108942958592.0000\n",
      "Epoch 6/150\n",
      "119/119 [==============================] - 0s 2ms/step - loss: 93909581414.4000 - val_loss: 102908461056.0000\n",
      "Epoch 7/150\n",
      "119/119 [==============================] - 0s 2ms/step - loss: 89930257271.4667 - val_loss: 101235359744.0000\n",
      "Epoch 8/150\n",
      "119/119 [==============================] - 0s 2ms/step - loss: 89967652727.4667 - val_loss: 99545169920.0000\n",
      "Epoch 9/150\n",
      "119/119 [==============================] - 0s 2ms/step - loss: 89081099468.8000 - val_loss: 97787150336.0000\n",
      "Epoch 10/150\n",
      "119/119 [==============================] - 0s 2ms/step - loss: 98831393314.1333 - val_loss: 96024182784.0000\n",
      "Epoch 11/150\n",
      "119/119 [==============================] - 0s 3ms/step - loss: 96194609629.8667 - val_loss: 94098694144.0000\n",
      "Epoch 12/150\n",
      "119/119 [==============================] - 0s 2ms/step - loss: 97947643357.8667 - val_loss: 92162506752.0000\n",
      "Epoch 13/150\n",
      "119/119 [==============================] - 0s 3ms/step - loss: 82342460074.6667 - val_loss: 90100613120.0000\n",
      "Epoch 14/150\n",
      "119/119 [==============================] - 0s 2ms/step - loss: 86856129740.8000 - val_loss: 87940907008.0000\n",
      "Epoch 15/150\n",
      "119/119 [==============================] - 0s 2ms/step - loss: 94265891430.4000 - val_loss: 85692260352.0000\n",
      "Epoch 16/150\n",
      "119/119 [==============================] - 0s 2ms/step - loss: 79398661597.8667 - val_loss: 83381518336.0000\n",
      "Epoch 17/150\n",
      "119/119 [==============================] - 0s 2ms/step - loss: 88773879739.7333 - val_loss: 80849444864.0000\n",
      "Epoch 18/150\n",
      "119/119 [==============================] - 0s 2ms/step - loss: 77742142873.6000 - val_loss: 78264623104.0000\n",
      "Epoch 19/150\n",
      "119/119 [==============================] - 0s 2ms/step - loss: 79853484373.3333 - val_loss: 75522441216.0000\n",
      "Epoch 20/150\n",
      "119/119 [==============================] - 0s 2ms/step - loss: 66294283776.0000 - val_loss: 72704483328.0000\n",
      "Epoch 21/150\n",
      "119/119 [==============================] - 0s 2ms/step - loss: 69516447607.4667 - val_loss: 69959983104.0000\n",
      "Epoch 22/150\n",
      "119/119 [==============================] - 0s 2ms/step - loss: 64374849843.2000 - val_loss: 67177746432.0000\n",
      "Epoch 23/150\n",
      "119/119 [==============================] - 0s 2ms/step - loss: 67219823991.4667 - val_loss: 64502026240.0000\n",
      "Epoch 24/150\n",
      "119/119 [==============================] - 0s 2ms/step - loss: 59419091046.4000 - val_loss: 61956444160.0000\n",
      "Epoch 25/150\n",
      "119/119 [==============================] - 0s 2ms/step - loss: 68499347592.5333 - val_loss: 59857063936.0000\n",
      "Epoch 26/150\n",
      "119/119 [==============================] - 0s 2ms/step - loss: 58826526651.7333 - val_loss: 57823535104.0000\n",
      "Epoch 27/150\n",
      "119/119 [==============================] - 0s 2ms/step - loss: 59654385749.3333 - val_loss: 56184758272.0000\n",
      "Epoch 28/150\n",
      "119/119 [==============================] - 0s 2ms/step - loss: 50699158152.5333 - val_loss: 54828720128.0000\n",
      "Epoch 29/150\n",
      "119/119 [==============================] - 0s 2ms/step - loss: 53555222118.4000 - val_loss: 53715361792.0000\n",
      "Epoch 30/150\n",
      "119/119 [==============================] - 0s 3ms/step - loss: 50037945958.4000 - val_loss: 52768473088.0000\n",
      "Epoch 31/150\n",
      "119/119 [==============================] - 0s 3ms/step - loss: 49723521518.9333 - val_loss: 51926335488.0000\n",
      "Epoch 32/150\n",
      "119/119 [==============================] - 0s 3ms/step - loss: 50503449975.4667 - val_loss: 51258990592.0000\n",
      "Epoch 33/150\n",
      "119/119 [==============================] - 0s 3ms/step - loss: 49764471057.0667 - val_loss: 50462154752.0000\n",
      "Epoch 34/150\n",
      "119/119 [==============================] - 0s 3ms/step - loss: 48766390749.8667 - val_loss: 49892175872.0000\n",
      "Epoch 35/150\n",
      "119/119 [==============================] - 0s 2ms/step - loss: 47564373913.6000 - val_loss: 49222074368.0000\n",
      "Epoch 36/150\n",
      "119/119 [==============================] - 0s 2ms/step - loss: 48839855820.8000 - val_loss: 48717123584.0000\n",
      "Epoch 37/150\n",
      "119/119 [==============================] - 0s 2ms/step - loss: 47285344529.0667 - val_loss: 48090103808.0000\n",
      "Epoch 38/150\n",
      "119/119 [==============================] - 0s 2ms/step - loss: 47406926984.5333 - val_loss: 47510306816.0000\n",
      "Epoch 39/150\n",
      "119/119 [==============================] - 0s 2ms/step - loss: 46567946325.3333 - val_loss: 47024783360.0000\n",
      "Epoch 40/150\n",
      "119/119 [==============================] - 0s 2ms/step - loss: 45694549299.2000 - val_loss: 46551752704.0000\n",
      "Epoch 41/150\n",
      "119/119 [==============================] - 0s 2ms/step - loss: 47343847816.5333 - val_loss: 45981020160.0000\n",
      "Epoch 42/150\n",
      "119/119 [==============================] - 0s 3ms/step - loss: 46937845282.1333 - val_loss: 45548433408.0000\n",
      "Epoch 43/150\n",
      "119/119 [==============================] - 0s 2ms/step - loss: 42738803626.6667 - val_loss: 45055954944.0000\n",
      "Epoch 44/150\n",
      "119/119 [==============================] - 0s 2ms/step - loss: 43866795451.7333 - val_loss: 44608262144.0000\n",
      "Epoch 45/150\n",
      "119/119 [==============================] - 0s 2ms/step - loss: 46472571357.8667 - val_loss: 44235153408.0000\n",
      "Epoch 46/150\n",
      "119/119 [==============================] - 0s 2ms/step - loss: 42681377672.5333 - val_loss: 43818278912.0000\n",
      "Epoch 47/150\n",
      "119/119 [==============================] - 0s 2ms/step - loss: 40739054336.0000 - val_loss: 43429871616.0000\n",
      "Epoch 48/150\n",
      "119/119 [==============================] - 0s 2ms/step - loss: 42215032524.8000 - val_loss: 43027898368.0000\n",
      "Epoch 49/150\n",
      "119/119 [==============================] - 0s 2ms/step - loss: 43350436590.9333 - val_loss: 42673274880.0000\n",
      "Epoch 50/150\n",
      "119/119 [==============================] - 0s 2ms/step - loss: 43771903249.0667 - val_loss: 42326061056.0000\n",
      "Epoch 51/150\n",
      "119/119 [==============================] - 0s 2ms/step - loss: 45008535637.3333 - val_loss: 41974841344.0000\n",
      "Epoch 52/150\n",
      "119/119 [==============================] - 0s 2ms/step - loss: 43449356373.3333 - val_loss: 41679159296.0000\n",
      "Epoch 53/150\n",
      "119/119 [==============================] - 0s 2ms/step - loss: 41549689309.8667 - val_loss: 41412718592.0000\n",
      "Epoch 54/150\n",
      "119/119 [==============================] - 0s 2ms/step - loss: 37336008123.7333 - val_loss: 41014362112.0000\n",
      "Epoch 55/150\n",
      "119/119 [==============================] - 0s 2ms/step - loss: 41537860130.1333 - val_loss: 40744271872.0000\n",
      "Epoch 56/150\n",
      "119/119 [==============================] - 0s 2ms/step - loss: 39934659822.9333 - val_loss: 40418566144.0000\n",
      "Epoch 57/150\n",
      "119/119 [==============================] - 0s 2ms/step - loss: 43802638677.3333 - val_loss: 40101015552.0000\n",
      "Epoch 58/150\n",
      "119/119 [==============================] - 0s 2ms/step - loss: 37233669666.1333 - val_loss: 39808172032.0000\n",
      "Epoch 59/150\n",
      "119/119 [==============================] - 0s 2ms/step - loss: 38747076232.5333 - val_loss: 39516008448.0000\n",
      "Epoch 60/150\n",
      "119/119 [==============================] - 0s 2ms/step - loss: 41502351684.2667 - val_loss: 39287185408.0000\n",
      "Epoch 61/150\n",
      "119/119 [==============================] - 0s 2ms/step - loss: 38039703364.2667 - val_loss: 39032881152.0000\n",
      "Epoch 62/150\n",
      "119/119 [==============================] - 0s 2ms/step - loss: 39158454988.8000 - val_loss: 38807719936.0000\n",
      "Epoch 63/150\n",
      "119/119 [==============================] - 0s 2ms/step - loss: 36157596194.1333 - val_loss: 38582734848.0000\n",
      "Epoch 64/150\n",
      "119/119 [==============================] - 0s 2ms/step - loss: 34822564317.8667 - val_loss: 38389489664.0000\n",
      "Epoch 65/150\n",
      "119/119 [==============================] - 0s 2ms/step - loss: 37691145267.2000 - val_loss: 38185254912.0000\n",
      "Epoch 66/150\n",
      "119/119 [==============================] - 0s 2ms/step - loss: 37904252006.4000 - val_loss: 37979385856.0000\n",
      "Epoch 67/150\n",
      "119/119 [==============================] - 0s 2ms/step - loss: 37390962432.0000 - val_loss: 37802090496.0000\n",
      "Epoch 68/150\n"
     ]
    },
    {
     "name": "stdout",
     "output_type": "stream",
     "text": [
      "119/119 [==============================] - 0s 2ms/step - loss: 36533278702.9333 - val_loss: 37577068544.0000\n",
      "Epoch 69/150\n",
      "119/119 [==============================] - 0s 2ms/step - loss: 35407632657.0667 - val_loss: 37420781568.0000\n",
      "Epoch 70/150\n",
      "119/119 [==============================] - 0s 2ms/step - loss: 35834707763.2000 - val_loss: 37282267136.0000\n",
      "Epoch 71/150\n",
      "119/119 [==============================] - 0s 2ms/step - loss: 38288499165.8667 - val_loss: 37035827200.0000\n",
      "Epoch 72/150\n",
      "119/119 [==============================] - 0s 2ms/step - loss: 37791562683.7333 - val_loss: 36860596224.0000\n",
      "Epoch 73/150\n",
      "119/119 [==============================] - 0s 2ms/step - loss: 37723824401.0667 - val_loss: 36689784832.0000\n",
      "Epoch 74/150\n",
      "119/119 [==============================] - 0s 2ms/step - loss: 37079280913.0667 - val_loss: 36633604096.0000\n",
      "Epoch 75/150\n",
      "119/119 [==============================] - 0s 2ms/step - loss: 36179221555.2000 - val_loss: 36372332544.0000\n",
      "Epoch 76/150\n",
      "119/119 [==============================] - 0s 2ms/step - loss: 37634457804.8000 - val_loss: 36431568896.0000\n",
      "Epoch 77/150\n",
      "119/119 [==============================] - 0s 2ms/step - loss: 36125367603.2000 - val_loss: 36092653568.0000\n",
      "Epoch 78/150\n",
      "119/119 [==============================] - 0s 2ms/step - loss: 39017927901.8667 - val_loss: 35954520064.0000\n",
      "Epoch 79/150\n",
      "119/119 [==============================] - 0s 2ms/step - loss: 35447265877.3333 - val_loss: 35883712512.0000\n",
      "Epoch 80/150\n",
      "119/119 [==============================] - 0s 2ms/step - loss: 35956481467.7333 - val_loss: 35704950784.0000\n",
      "Epoch 81/150\n",
      "119/119 [==============================] - 0s 2ms/step - loss: 34233991014.4000 - val_loss: 35692064768.0000\n",
      "Epoch 82/150\n",
      "119/119 [==============================] - 0s 2ms/step - loss: 37267273540.2667 - val_loss: 35528056832.0000\n",
      "Epoch 83/150\n",
      "119/119 [==============================] - 0s 2ms/step - loss: 35148601344.0000 - val_loss: 35446693888.0000\n",
      "Epoch 84/150\n",
      "119/119 [==============================] - 0s 2ms/step - loss: 35093096823.4667 - val_loss: 35372515328.0000\n",
      "Epoch 85/150\n",
      "119/119 [==============================] - 0s 2ms/step - loss: 34884271974.4000 - val_loss: 35219664896.0000\n",
      "Epoch 86/150\n",
      "119/119 [==============================] - 0s 2ms/step - loss: 33941568819.2000 - val_loss: 35192496128.0000\n",
      "Epoch 87/150\n",
      "119/119 [==============================] - 0s 2ms/step - loss: 37002832537.6000 - val_loss: 35092774912.0000\n",
      "Epoch 88/150\n",
      "119/119 [==============================] - 0s 2ms/step - loss: 36906539997.8667 - val_loss: 34964017152.0000\n",
      "Epoch 89/150\n",
      "119/119 [==============================] - 0s 2ms/step - loss: 33686098073.6000 - val_loss: 34946326528.0000\n",
      "Epoch 90/150\n",
      "119/119 [==============================] - 0s 2ms/step - loss: 34858260821.3333 - val_loss: 34827194368.0000\n",
      "Epoch 91/150\n",
      "119/119 [==============================] - 0s 2ms/step - loss: 32832033774.9333 - val_loss: 34743377920.0000\n",
      "Epoch 92/150\n",
      "119/119 [==============================] - 0s 2ms/step - loss: 37467330150.4000 - val_loss: 34692382720.0000\n",
      "Epoch 93/150\n",
      "119/119 [==============================] - 0s 2ms/step - loss: 35883644842.6667 - val_loss: 34614853632.0000\n",
      "Epoch 94/150\n",
      "119/119 [==============================] - 0s 2ms/step - loss: 35830685013.3333 - val_loss: 34605367296.0000\n",
      "Epoch 95/150\n",
      "119/119 [==============================] - 0s 3ms/step - loss: 34320678297.6000 - val_loss: 34495946752.0000\n",
      "Epoch 96/150\n",
      "119/119 [==============================] - 0s 2ms/step - loss: 32463770060.8000 - val_loss: 34444697600.0000\n",
      "Epoch 97/150\n",
      "119/119 [==============================] - 0s 2ms/step - loss: 36677421380.2667 - val_loss: 34399965184.0000\n",
      "Epoch 98/150\n",
      "119/119 [==============================] - 0s 2ms/step - loss: 33615400345.6000 - val_loss: 34336548864.0000\n",
      "Epoch 99/150\n",
      "119/119 [==============================] - 0s 2ms/step - loss: 33162224605.8667 - val_loss: 34282186752.0000\n",
      "Epoch 100/150\n",
      "119/119 [==============================] - 0s 2ms/step - loss: 34516224580.2667 - val_loss: 34180548608.0000\n",
      "Epoch 101/150\n",
      "119/119 [==============================] - 0s 2ms/step - loss: 36598945143.4667 - val_loss: 34097612800.0000\n",
      "Epoch 102/150\n",
      "119/119 [==============================] - 0s 2ms/step - loss: 35734330948.2667 - val_loss: 34054969344.0000\n",
      "Epoch 103/150\n",
      "119/119 [==============================] - 0s 2ms/step - loss: 35834495539.2000 - val_loss: 33971474432.0000\n",
      "Epoch 104/150\n",
      "119/119 [==============================] - 0s 2ms/step - loss: 33626767155.2000 - val_loss: 33900449792.0000\n",
      "Epoch 105/150\n",
      "119/119 [==============================] - 0s 2ms/step - loss: 31726345642.6667 - val_loss: 33862434816.0000\n",
      "Epoch 106/150\n",
      "119/119 [==============================] - 0s 2ms/step - loss: 33954571810.1333 - val_loss: 33780443136.0000\n",
      "Epoch 107/150\n",
      "119/119 [==============================] - 0s 2ms/step - loss: 35012146653.8667 - val_loss: 33741328384.0000\n",
      "Epoch 108/150\n",
      "119/119 [==============================] - 0s 2ms/step - loss: 31329527415.4667 - val_loss: 33660913664.0000\n",
      "Epoch 109/150\n",
      "119/119 [==============================] - 0s 2ms/step - loss: 33211038685.8667 - val_loss: 33617639424.0000\n",
      "Epoch 110/150\n",
      "119/119 [==============================] - 0s 2ms/step - loss: 34561568256.0000 - val_loss: 33591795712.0000\n",
      "Epoch 111/150\n",
      "119/119 [==============================] - 0s 2ms/step - loss: 34994496512.0000 - val_loss: 33494456320.0000\n",
      "Epoch 112/150\n",
      "119/119 [==============================] - 0s 2ms/step - loss: 33344236407.4667 - val_loss: 33457285120.0000\n",
      "Epoch 113/150\n",
      "119/119 [==============================] - 0s 2ms/step - loss: 33766891366.4000 - val_loss: 33372829696.0000\n",
      "Epoch 114/150\n",
      "119/119 [==============================] - 0s 2ms/step - loss: 33630421828.2667 - val_loss: 33340702720.0000\n",
      "Epoch 115/150\n",
      "119/119 [==============================] - 0s 2ms/step - loss: 36638877815.4667 - val_loss: 33271324672.0000\n",
      "Epoch 116/150\n",
      "119/119 [==============================] - 0s 2ms/step - loss: 35393545113.6000 - val_loss: 33222641664.0000\n",
      "Epoch 117/150\n",
      "119/119 [==============================] - 0s 2ms/step - loss: 32916501299.2000 - val_loss: 33168695296.0000\n",
      "Epoch 118/150\n",
      "119/119 [==============================] - 0s 2ms/step - loss: 35047934259.2000 - val_loss: 33111222272.0000\n",
      "Epoch 119/150\n",
      "119/119 [==============================] - 0s 2ms/step - loss: 33112819848.5333 - val_loss: 33066113024.0000\n",
      "Epoch 120/150\n",
      "119/119 [==============================] - 0s 2ms/step - loss: 32756719616.0000 - val_loss: 33145915392.0000\n",
      "Epoch 121/150\n",
      "119/119 [==============================] - 0s 2ms/step - loss: 33272886357.3333 - val_loss: 32976472064.0000\n",
      "Epoch 122/150\n",
      "119/119 [==============================] - 0s 2ms/step - loss: 32672720810.6667 - val_loss: 32961736704.0000\n",
      "Epoch 123/150\n",
      "119/119 [==============================] - 0s 2ms/step - loss: 33997976678.4000 - val_loss: 32921389056.0000\n",
      "Epoch 124/150\n",
      "119/119 [==============================] - 0s 2ms/step - loss: 34829753122.1333 - val_loss: 32888903680.0000\n",
      "Epoch 125/150\n",
      "119/119 [==============================] - 0s 2ms/step - loss: 35607853124.2667 - val_loss: 32816128000.0000\n",
      "Epoch 126/150\n",
      "119/119 [==============================] - 0s 2ms/step - loss: 37176531438.9333 - val_loss: 32839030784.0000\n",
      "Epoch 127/150\n",
      "119/119 [==============================] - 0s 2ms/step - loss: 33164425216.0000 - val_loss: 32767428608.0000\n",
      "Epoch 128/150\n",
      "119/119 [==============================] - 0s 2ms/step - loss: 35659609890.1333 - val_loss: 32835065856.0000\n",
      "Epoch 129/150\n",
      "119/119 [==============================] - 0s 2ms/step - loss: 31484930124.8000 - val_loss: 32692039680.0000\n",
      "Epoch 130/150\n",
      "119/119 [==============================] - 0s 2ms/step - loss: 32015850188.8000 - val_loss: 32664797184.0000\n",
      "Epoch 131/150\n",
      "119/119 [==============================] - 0s 2ms/step - loss: 33921424401.0667 - val_loss: 32601049088.0000\n",
      "Epoch 132/150\n",
      "119/119 [==============================] - 0s 2ms/step - loss: 36376872584.5333 - val_loss: 32545454080.0000\n",
      "Epoch 133/150\n",
      "119/119 [==============================] - 0s 2ms/step - loss: 33151846144.0000 - val_loss: 32536631296.0000\n",
      "Epoch 134/150\n",
      "119/119 [==============================] - 0s 2ms/step - loss: 31487642760.5333 - val_loss: 32728580096.0000\n"
     ]
    },
    {
     "name": "stdout",
     "output_type": "stream",
     "text": [
      "Epoch 135/150\n",
      "119/119 [==============================] - 0s 2ms/step - loss: 32140510003.2000 - val_loss: 32435949568.0000\n",
      "Epoch 136/150\n",
      "119/119 [==============================] - 0s 2ms/step - loss: 35293648981.3333 - val_loss: 32430886912.0000\n",
      "Epoch 137/150\n",
      "119/119 [==============================] - 0s 2ms/step - loss: 36187472230.4000 - val_loss: 32373080064.0000\n",
      "Epoch 138/150\n",
      "119/119 [==============================] - 0s 2ms/step - loss: 31680370261.3333 - val_loss: 32473972736.0000\n",
      "Epoch 139/150\n",
      "119/119 [==============================] - 0s 2ms/step - loss: 34720380723.2000 - val_loss: 32292907008.0000\n",
      "Epoch 140/150\n",
      "119/119 [==============================] - 0s 2ms/step - loss: 31571497847.4667 - val_loss: 32342284288.0000\n",
      "Epoch 141/150\n",
      "119/119 [==============================] - 0s 2ms/step - loss: 33250314120.5333 - val_loss: 32310786048.0000\n",
      "Epoch 142/150\n",
      "119/119 [==============================] - 0s 2ms/step - loss: 32131052305.0667 - val_loss: 32192167936.0000\n",
      "Epoch 143/150\n",
      "119/119 [==============================] - 0s 2ms/step - loss: 31921658248.5333 - val_loss: 32167493632.0000\n",
      "Epoch 144/150\n",
      "119/119 [==============================] - 0s 2ms/step - loss: 32293135001.6000 - val_loss: 32130637824.0000\n",
      "Epoch 145/150\n",
      "119/119 [==============================] - 0s 2ms/step - loss: 34100348928.0000 - val_loss: 32105297920.0000\n",
      "Epoch 146/150\n",
      "119/119 [==============================] - 0s 2ms/step - loss: 30408259430.4000 - val_loss: 32093878272.0000\n",
      "Epoch 147/150\n",
      "119/119 [==============================] - 0s 2ms/step - loss: 30908663867.7333 - val_loss: 32049393664.0000\n",
      "Epoch 148/150\n",
      "119/119 [==============================] - 0s 2ms/step - loss: 31970573038.9333 - val_loss: 32080570368.0000\n",
      "Epoch 149/150\n",
      "119/119 [==============================] - 0s 2ms/step - loss: 32282907016.5333 - val_loss: 32096874496.0000\n",
      "Epoch 150/150\n",
      "119/119 [==============================] - 0s 2ms/step - loss: 33257207876.2667 - val_loss: 31965136896.0000\n"
     ]
    },
    {
     "data": {
      "text/plain": [
       "<tensorflow.python.keras.callbacks.History at 0x18daf450310>"
      ]
     },
     "execution_count": 113,
     "metadata": {},
     "output_type": "execute_result"
    }
   ],
   "source": [
    "model.fit(x=X_train,y=y_train,\n",
    "          batch_size=128, epochs=150,\n",
    "          validation_data=(X_test,y_test))"
   ]
  },
  {
   "cell_type": "code",
   "execution_count": 114,
   "metadata": {},
   "outputs": [],
   "source": [
    "losses = pd.DataFrame(model.history.history)"
   ]
  },
  {
   "cell_type": "code",
   "execution_count": 115,
   "metadata": {},
   "outputs": [
    {
     "data": {
      "text/html": [
       "<div>\n",
       "<style scoped>\n",
       "    .dataframe tbody tr th:only-of-type {\n",
       "        vertical-align: middle;\n",
       "    }\n",
       "\n",
       "    .dataframe tbody tr th {\n",
       "        vertical-align: top;\n",
       "    }\n",
       "\n",
       "    .dataframe thead th {\n",
       "        text-align: right;\n",
       "    }\n",
       "</style>\n",
       "<table border=\"1\" class=\"dataframe\">\n",
       "  <thead>\n",
       "    <tr style=\"text-align: right;\">\n",
       "      <th></th>\n",
       "      <th>loss</th>\n",
       "      <th>val_loss</th>\n",
       "    </tr>\n",
       "  </thead>\n",
       "  <tbody>\n",
       "    <tr>\n",
       "      <th>0</th>\n",
       "      <td>4.236156e+11</td>\n",
       "      <td>4.329510e+11</td>\n",
       "    </tr>\n",
       "    <tr>\n",
       "      <th>1</th>\n",
       "      <td>4.219005e+11</td>\n",
       "      <td>4.269484e+11</td>\n",
       "    </tr>\n",
       "    <tr>\n",
       "      <th>2</th>\n",
       "      <td>3.988886e+11</td>\n",
       "      <td>3.738822e+11</td>\n",
       "    </tr>\n",
       "    <tr>\n",
       "      <th>3</th>\n",
       "      <td>2.949754e+11</td>\n",
       "      <td>2.154920e+11</td>\n",
       "    </tr>\n",
       "    <tr>\n",
       "      <th>4</th>\n",
       "      <td>1.418245e+11</td>\n",
       "      <td>1.089430e+11</td>\n",
       "    </tr>\n",
       "    <tr>\n",
       "      <th>...</th>\n",
       "      <td>...</td>\n",
       "      <td>...</td>\n",
       "    </tr>\n",
       "    <tr>\n",
       "      <th>145</th>\n",
       "      <td>3.271048e+10</td>\n",
       "      <td>3.209388e+10</td>\n",
       "    </tr>\n",
       "    <tr>\n",
       "      <th>146</th>\n",
       "      <td>3.270155e+10</td>\n",
       "      <td>3.204939e+10</td>\n",
       "    </tr>\n",
       "    <tr>\n",
       "      <th>147</th>\n",
       "      <td>3.272327e+10</td>\n",
       "      <td>3.208057e+10</td>\n",
       "    </tr>\n",
       "    <tr>\n",
       "      <th>148</th>\n",
       "      <td>3.265720e+10</td>\n",
       "      <td>3.209687e+10</td>\n",
       "    </tr>\n",
       "    <tr>\n",
       "      <th>149</th>\n",
       "      <td>3.260076e+10</td>\n",
       "      <td>3.196514e+10</td>\n",
       "    </tr>\n",
       "  </tbody>\n",
       "</table>\n",
       "<p>150 rows × 2 columns</p>\n",
       "</div>"
      ],
      "text/plain": [
       "             loss      val_loss\n",
       "0    4.236156e+11  4.329510e+11\n",
       "1    4.219005e+11  4.269484e+11\n",
       "2    3.988886e+11  3.738822e+11\n",
       "3    2.949754e+11  2.154920e+11\n",
       "4    1.418245e+11  1.089430e+11\n",
       "..            ...           ...\n",
       "145  3.271048e+10  3.209388e+10\n",
       "146  3.270155e+10  3.204939e+10\n",
       "147  3.272327e+10  3.208057e+10\n",
       "148  3.265720e+10  3.209687e+10\n",
       "149  3.260076e+10  3.196514e+10\n",
       "\n",
       "[150 rows x 2 columns]"
      ]
     },
     "execution_count": 115,
     "metadata": {},
     "output_type": "execute_result"
    }
   ],
   "source": [
    "losses"
   ]
  },
  {
   "cell_type": "code",
   "execution_count": 124,
   "metadata": {},
   "outputs": [
    {
     "data": {
      "text/plain": [
       "<AxesSubplot:>"
      ]
     },
     "execution_count": 124,
     "metadata": {},
     "output_type": "execute_result"
    },
    {
     "data": {
      "image/png": "[encoded data removed]",
      "text/plain": [
       "<Figure size 432x288 with 1 Axes>"
      ]
     },
     "metadata": {
      "needs_background": "light"
     },
     "output_type": "display_data"
    }
   ],
   "source": [
    "losses.plot()"
   ]
  },
  {
   "cell_type": "code",
   "execution_count": 117,
   "metadata": {},
   "outputs": [],
   "source": [
    "from sklearn.metrics import mean_absolute_error,mean_squared_error,explained_variance_score"
   ]
  },
  {
   "cell_type": "code",
   "execution_count": 118,
   "metadata": {},
   "outputs": [],
   "source": [
    "y_pred = model.predict(X_test)"
   ]
  },
  {
   "cell_type": "code",
   "execution_count": 119,
   "metadata": {},
   "outputs": [
    {
     "data": {
      "text/plain": [
       "178787.96438041856"
      ]
     },
     "execution_count": 119,
     "metadata": {},
     "output_type": "execute_result"
    }
   ],
   "source": [
    "mean_squared_error(y_test,y_pred)**0.5"
   ]
  },
  {
   "cell_type": "code",
   "execution_count": 120,
   "metadata": {},
   "outputs": [
    {
     "data": {
      "text/plain": [
       "110151.57722283939"
      ]
     },
     "execution_count": 120,
     "metadata": {},
     "output_type": "execute_result"
    }
   ],
   "source": [
    "mean_absolute_error(y_test,y_pred)"
   ]
  },
  {
   "cell_type": "code",
   "execution_count": 121,
   "metadata": {},
   "outputs": [
    {
     "data": {
      "text/plain": [
       "count    2.161300e+04\n",
       "mean     5.400881e+05\n",
       "std      3.671272e+05\n",
       "min      7.500000e+04\n",
       "25%      3.219500e+05\n",
       "50%      4.500000e+05\n",
       "75%      6.450000e+05\n",
       "max      7.700000e+06\n",
       "Name: price, dtype: float64"
      ]
     },
     "execution_count": 121,
     "metadata": {},
     "output_type": "execute_result"
    }
   ],
   "source": [
    "df['price'].describe()"
   ]
  },
  {
   "cell_type": "code",
   "execution_count": 122,
   "metadata": {},
   "outputs": [
    {
     "data": {
      "text/plain": [
       "540088.1"
      ]
     },
     "execution_count": 122,
     "metadata": {},
     "output_type": "execute_result"
    }
   ],
   "source": [
    "5.400881e+05"
   ]
  },
  {
   "cell_type": "code",
   "execution_count": 123,
   "metadata": {},
   "outputs": [
    {
     "data": {
      "text/plain": [
       "0.7721272571257949"
      ]
     },
     "execution_count": 123,
     "metadata": {},
     "output_type": "execute_result"
    }
   ],
   "source": [
    "explained_variance_score(y_test,y_pred)"
   ]
  },
  {
   "cell_type": "code",
   "execution_count": null,
   "metadata": {},
   "outputs": [],
   "source": []
  }
 ],
 "metadata": {
  "kernelspec": {
   "display_name": "Python 3",
   "language": "python",
   "name": "python3"
  },
  "language_info": {
   "codemirror_mode": {
    "name": "ipython",
    "version": 3
   },
   "file_extension": ".py",
   "mimetype": "text/x-python",
   "name": "python",
   "nbconvert_exporter": "python",
   "pygments_lexer": "ipython3",
   "version": "3.8.5"
  }
 },
 "nbformat": 4,
 "nbformat_minor": 4
}
